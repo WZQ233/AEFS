{
  "cells": [
    {
      "cell_type": "markdown",
      "metadata": {
        "id": "view-in-github",
        "colab_type": "text"
      },
      "source": [
        "<a href=\"https://colab.research.google.com/github/WZQ233/AEFS/blob/master/AnomalyDetection_%D0%A1NN.ipynb\" target=\"_parent\"><img src=\"https://colab.research.google.com/assets/colab-badge.svg\" alt=\"Open In Colab\"/></a>"
      ]
    },
    {
      "cell_type": "markdown",
      "metadata": {
        "id": "c45j7iT_KQt0"
      },
      "source": [
        "### Load libs"
      ]
    },
    {
      "cell_type": "code",
      "execution_count": 58,
      "metadata": {
        "id": "MCYhjG-SKQt4"
      },
      "outputs": [],
      "source": [
        "import numpy as np\n",
        "import pandas as pd\n",
        "\n",
        "import matplotlib.pyplot as plt\n",
        "\n",
        "import tensorflow as tf\n",
        "\n",
        "\n",
        "\n",
        "from keras.callbacks import ModelCheckpoint, TensorBoard\n",
        "from keras import regularizers\n",
        "import seaborn as sns\n",
        "from keras.preprocessing.image import ImageDataGenerator\n",
        "from keras.preprocessing.image import array_to_img, img_to_array, load_img\n",
        "from keras.layers import Input, Dense, Conv2D, MaxPooling2D, UpSampling2D, ZeroPadding2D, Flatten, Activation\n",
        "from keras.models import Sequential, Model\n",
        "from tensorflow.keras.optimizers import RMSprop, Adam, Nadam\n",
        "from skimage import transform\n",
        "\n",
        "import os\n",
        "import cv2\n",
        "\n",
        "\n",
        "%matplotlib inline\n",
        "\n",
        "sns.set(style='whitegrid', palette='muted', font_scale=1.5)"
      ]
    },
    {
      "cell_type": "markdown",
      "metadata": {
        "id": "20Dk2rs-KQt7"
      },
      "source": [
        "### Helpers. Params. Preprocesing\n"
      ]
    },
    {
      "cell_type": "code",
      "execution_count": 59,
      "metadata": {
        "id": "A03NL_iUKQt7"
      },
      "outputs": [],
      "source": [
        "def fixed_generator(generator):\n",
        "    for batch in generator:\n",
        "        yield (batch, batch)   "
      ]
    },
    {
      "cell_type": "code",
      "execution_count": 60,
      "metadata": {
        "id": "74MG8lsLKQt8"
      },
      "outputs": [],
      "source": [
        "def mse(imageA, imageB):\n",
        "    err = np.sum((imageA.astype(\"float\") - imageB.astype(\"float\")) ** 2)\n",
        "    err /= float(imageA.shape[0] * imageA.shape[1])\n",
        "    return err"
      ]
    },
    {
      "cell_type": "code",
      "execution_count": 61,
      "metadata": {
        "id": "OHSlwX3ZKQt9"
      },
      "outputs": [],
      "source": [
        "#Test any image\n",
        "def IsImageHasAnomaly(autoencoder, filePath,threshold):  \n",
        "    #im = cv2.resize(cv2.imread(filePath), (72, 72))\n",
        "    im = cv2.imread(filePath)\n",
        "    im = im * 1./255\n",
        "    datas = np.zeros((1,  72, 72, 3))\n",
        "    validation_image[0, :, :, :] = im;   \n",
        "    predicted_image = autoencoder.predict(validation_image)\n",
        "    _mse = mse(predicted_image[0], validation_image[0]) \n",
        "    print('_mse: {}'.format(_mse))\n",
        "    return _mse  > threshold"
      ]
    },
    {
      "cell_type": "code",
      "execution_count": 62,
      "metadata": {
        "colab": {
          "base_uri": "https://localhost:8080/",
          "height": 0
        },
        "id": "e4jcimDFOuMt",
        "outputId": "dfa8e26d-0b0a-4197-ed34-955a22ae90bb"
      },
      "outputs": [
        {
          "output_type": "stream",
          "name": "stdout",
          "text": [
            "Drive already mounted at /content/drive; to attempt to forcibly remount, call drive.mount(\"/content/drive\", force_remount=True).\n"
          ]
        }
      ],
      "source": [
        "from google.colab import drive\n",
        "drive.mount('/content/drive')"
      ]
    },
    {
      "cell_type": "code",
      "execution_count": 63,
      "metadata": {
        "id": "-exh6Jt_KQt-"
      },
      "outputs": [],
      "source": [
        "img_width, img_height = 72, 72\n",
        "\n",
        "batch_size = 32\n",
        "\n",
        "nb_validation_samples=0\n",
        "nb_train_samples=0\n",
        "\n",
        "nb_epoch=20\n",
        "\n",
        "initial_image_dir='/content/drive/MyDrive/Colab Notebooks/initial'\n",
        "train_data_dir = initial_image_dir + '/train'\n",
        "validation_data_dir = initial_image_dir + '/valid'"
      ]
    },
    {
      "cell_type": "markdown",
      "metadata": {
        "id": "5v81XOCGKQt_"
      },
      "source": [
        "#### Generator for images to complete dataset\n",
        "Generator is used for extending the image dataset by image transformation"
      ]
    },
    {
      "cell_type": "code",
      "execution_count": 64,
      "metadata": {
        "id": "Q-P2ASOlKQt_"
      },
      "outputs": [],
      "source": [
        "datagen = ImageDataGenerator(\n",
        "        rotation_range=40,\n",
        "        width_shift_range=0.2,\n",
        "        height_shift_range=0.2,\n",
        "        rescale=1./255,\n",
        "        shear_range=0.2,\n",
        "        zoom_range=0.2,\n",
        "        horizontal_flip=True,\n",
        "        fill_mode='nearest')"
      ]
    },
    {
      "cell_type": "markdown",
      "metadata": {
        "id": "B9eS0KbeKQuA"
      },
      "source": [
        "#### New image generation flow"
      ]
    },
    {
      "cell_type": "code",
      "execution_count": 65,
      "metadata": {
        "colab": {
          "base_uri": "https://localhost:8080/",
          "height": 0
        },
        "id": "dQ4pegjdKQuA",
        "outputId": "3ee8a113-0fdc-44f8-bf2a-7ea2fd4bfc6d"
      },
      "outputs": [
        {
          "output_type": "stream",
          "name": "stdout",
          "text": [
            "generate additional images for train in: /content/drive/MyDrive/Colab Notebooks/initial/train/correct_samples\n",
            "generate additional images for validation in: /content/drive/MyDrive/Colab Notebooks/initial/valid/correct_samples\n",
            "generate additional images for train in: /content/drive/MyDrive/Colab Notebooks/initial/train/correct_samples\n",
            "generate additional images for validation in: /content/drive/MyDrive/Colab Notebooks/initial/valid/correct_samples\n",
            "generate additional images for train in: /content/drive/MyDrive/Colab Notebooks/initial/train/correct_samples\n",
            "generate additional images for validation in: /content/drive/MyDrive/Colab Notebooks/initial/valid/correct_samples\n",
            "generate additional images for train in: /content/drive/MyDrive/Colab Notebooks/initial/train/correct_samples\n",
            "generate additional images for validation in: /content/drive/MyDrive/Colab Notebooks/initial/valid/correct_samples\n",
            "generate additional images for train in: /content/drive/MyDrive/Colab Notebooks/initial/train/correct_samples\n",
            "generate additional images for validation in: /content/drive/MyDrive/Colab Notebooks/initial/valid/correct_samples\n",
            "generate additional images for train in: /content/drive/MyDrive/Colab Notebooks/initial/train/correct_samples\n",
            "generate additional images for validation in: /content/drive/MyDrive/Colab Notebooks/initial/valid/correct_samples\n",
            "generate additional images for train in: /content/drive/MyDrive/Colab Notebooks/initial/train/correct_samples\n",
            "generate additional images for validation in: /content/drive/MyDrive/Colab Notebooks/initial/valid/correct_samples\n",
            "generate additional images for train in: /content/drive/MyDrive/Colab Notebooks/initial/train/correct_samples\n",
            "generate additional images for validation in: /content/drive/MyDrive/Colab Notebooks/initial/valid/correct_samples\n",
            "generate additional images for train in: /content/drive/MyDrive/Colab Notebooks/initial/train/correct_samples\n",
            "generate additional images for validation in: /content/drive/MyDrive/Colab Notebooks/initial/valid/correct_samples\n",
            "generate additional images for train in: /content/drive/MyDrive/Colab Notebooks/initial/train/correct_samples\n",
            "generate additional images for validation in: /content/drive/MyDrive/Colab Notebooks/initial/valid/correct_samples\n",
            "generate additional images for train in: /content/drive/MyDrive/Colab Notebooks/initial/train/correct_samples\n",
            "generate additional images for validation in: /content/drive/MyDrive/Colab Notebooks/initial/valid/correct_samples\n",
            "generate additional images for train in: /content/drive/MyDrive/Colab Notebooks/initial/train/correct_samples\n",
            "generate additional images for validation in: /content/drive/MyDrive/Colab Notebooks/initial/valid/correct_samples\n",
            "generate additional images for train in: /content/drive/MyDrive/Colab Notebooks/initial/train/correct_samples\n",
            "generate additional images for validation in: /content/drive/MyDrive/Colab Notebooks/initial/valid/correct_samples\n",
            "generate additional images for train in: /content/drive/MyDrive/Colab Notebooks/initial/train/correct_samples\n",
            "generate additional images for validation in: /content/drive/MyDrive/Colab Notebooks/initial/valid/correct_samples\n",
            "generate additional images for train in: /content/drive/MyDrive/Colab Notebooks/initial/train/correct_samples\n",
            "generate additional images for validation in: /content/drive/MyDrive/Colab Notebooks/initial/valid/correct_samples\n",
            "generate additional images for train in: /content/drive/MyDrive/Colab Notebooks/initial/train/correct_samples\n",
            "generate additional images for validation in: /content/drive/MyDrive/Colab Notebooks/initial/valid/correct_samples\n",
            "generate additional images for train in: /content/drive/MyDrive/Colab Notebooks/initial/train/correct_samples\n",
            "generate additional images for validation in: /content/drive/MyDrive/Colab Notebooks/initial/valid/correct_samples\n",
            "generate additional images for train in: /content/drive/MyDrive/Colab Notebooks/initial/train/correct_samples\n",
            "generate additional images for validation in: /content/drive/MyDrive/Colab Notebooks/initial/valid/correct_samples\n",
            "generate additional images for train in: /content/drive/MyDrive/Colab Notebooks/initial/train/correct_samples\n",
            "generate additional images for validation in: /content/drive/MyDrive/Colab Notebooks/initial/valid/correct_samples\n",
            "generate additional images for train in: /content/drive/MyDrive/Colab Notebooks/initial/train/correct_samples\n",
            "generate additional images for validation in: /content/drive/MyDrive/Colab Notebooks/initial/valid/correct_samples\n",
            "generate additional images for train in: /content/drive/MyDrive/Colab Notebooks/initial/train/correct_samples\n",
            "generate additional images for validation in: /content/drive/MyDrive/Colab Notebooks/initial/valid/correct_samples\n",
            "generate additional images for train in: /content/drive/MyDrive/Colab Notebooks/initial/train/correct_samples\n",
            "generate additional images for validation in: /content/drive/MyDrive/Colab Notebooks/initial/valid/correct_samples\n",
            "generate additional images for train in: /content/drive/MyDrive/Colab Notebooks/initial/train/correct_samples\n",
            "generate additional images for validation in: /content/drive/MyDrive/Colab Notebooks/initial/valid/correct_samples\n",
            "generate additional images for train in: /content/drive/MyDrive/Colab Notebooks/initial/train/correct_samples\n",
            "generate additional images for validation in: /content/drive/MyDrive/Colab Notebooks/initial/valid/correct_samples\n",
            "generate additional images for train in: /content/drive/MyDrive/Colab Notebooks/initial/train/correct_samples\n",
            "generate additional images for validation in: /content/drive/MyDrive/Colab Notebooks/initial/valid/correct_samples\n",
            "generate additional images for train in: /content/drive/MyDrive/Colab Notebooks/initial/train/correct_samples\n",
            "generate additional images for validation in: /content/drive/MyDrive/Colab Notebooks/initial/valid/correct_samples\n",
            "generate additional images for train in: /content/drive/MyDrive/Colab Notebooks/initial/train/correct_samples\n",
            "generate additional images for validation in: /content/drive/MyDrive/Colab Notebooks/initial/valid/correct_samples\n",
            "generate additional images for train in: /content/drive/MyDrive/Colab Notebooks/initial/train/correct_samples\n",
            "generate additional images for validation in: /content/drive/MyDrive/Colab Notebooks/initial/valid/correct_samples\n",
            "generate additional images for train in: /content/drive/MyDrive/Colab Notebooks/initial/train/correct_samples\n",
            "generate additional images for validation in: /content/drive/MyDrive/Colab Notebooks/initial/valid/correct_samples\n",
            "generate additional images for train in: /content/drive/MyDrive/Colab Notebooks/initial/train/correct_samples\n",
            "generate additional images for validation in: /content/drive/MyDrive/Colab Notebooks/initial/valid/correct_samples\n",
            "generate additional images for train in: /content/drive/MyDrive/Colab Notebooks/initial/train/correct_samples\n",
            "generate additional images for validation in: /content/drive/MyDrive/Colab Notebooks/initial/valid/correct_samples\n",
            "generate additional images for train in: /content/drive/MyDrive/Colab Notebooks/initial/train/correct_samples\n",
            "generate additional images for validation in: /content/drive/MyDrive/Colab Notebooks/initial/valid/correct_samples\n",
            "generate additional images for train in: /content/drive/MyDrive/Colab Notebooks/initial/train/correct_samples\n",
            "generate additional images for validation in: /content/drive/MyDrive/Colab Notebooks/initial/valid/correct_samples\n",
            "generate additional images for train in: /content/drive/MyDrive/Colab Notebooks/initial/train/correct_samples\n",
            "generate additional images for validation in: /content/drive/MyDrive/Colab Notebooks/initial/valid/correct_samples\n",
            "generate additional images for train in: /content/drive/MyDrive/Colab Notebooks/initial/train/correct_samples\n",
            "generate additional images for validation in: /content/drive/MyDrive/Colab Notebooks/initial/valid/correct_samples\n",
            "generate additional images for train in: /content/drive/MyDrive/Colab Notebooks/initial/train/correct_samples\n",
            "generate additional images for validation in: /content/drive/MyDrive/Colab Notebooks/initial/valid/correct_samples\n",
            "generate additional images for train in: /content/drive/MyDrive/Colab Notebooks/initial/train/correct_samples\n",
            "generate additional images for validation in: /content/drive/MyDrive/Colab Notebooks/initial/valid/correct_samples\n",
            "generate additional images for train in: /content/drive/MyDrive/Colab Notebooks/initial/train/correct_samples\n",
            "generate additional images for validation in: /content/drive/MyDrive/Colab Notebooks/initial/valid/correct_samples\n",
            "generate additional images for train in: /content/drive/MyDrive/Colab Notebooks/initial/train/correct_samples\n",
            "generate additional images for validation in: /content/drive/MyDrive/Colab Notebooks/initial/valid/correct_samples\n",
            "generate additional images for train in: /content/drive/MyDrive/Colab Notebooks/initial/train/correct_samples\n",
            "generate additional images for validation in: /content/drive/MyDrive/Colab Notebooks/initial/valid/correct_samples\n",
            "generate additional images for train in: /content/drive/MyDrive/Colab Notebooks/initial/train/correct_samples\n",
            "generate additional images for validation in: /content/drive/MyDrive/Colab Notebooks/initial/valid/correct_samples\n",
            "generate additional images for train in: /content/drive/MyDrive/Colab Notebooks/initial/train/correct_samples\n",
            "generate additional images for validation in: /content/drive/MyDrive/Colab Notebooks/initial/valid/correct_samples\n",
            "generate additional images for train in: /content/drive/MyDrive/Colab Notebooks/initial/train/correct_samples\n",
            "generate additional images for validation in: /content/drive/MyDrive/Colab Notebooks/initial/valid/correct_samples\n",
            "generate additional images for train in: /content/drive/MyDrive/Colab Notebooks/initial/train/correct_samples\n",
            "generate additional images for validation in: /content/drive/MyDrive/Colab Notebooks/initial/valid/correct_samples\n",
            "generate additional images for train in: /content/drive/MyDrive/Colab Notebooks/initial/train/correct_samples\n",
            "generate additional images for validation in: /content/drive/MyDrive/Colab Notebooks/initial/valid/correct_samples\n",
            "generate additional images for train in: /content/drive/MyDrive/Colab Notebooks/initial/train/correct_samples\n",
            "generate additional images for validation in: /content/drive/MyDrive/Colab Notebooks/initial/valid/correct_samples\n",
            "generate additional images for train in: /content/drive/MyDrive/Colab Notebooks/initial/train/correct_samples\n",
            "generate additional images for validation in: /content/drive/MyDrive/Colab Notebooks/initial/valid/correct_samples\n",
            "generate additional images for train in: /content/drive/MyDrive/Colab Notebooks/initial/train/correct_samples\n",
            "generate additional images for validation in: /content/drive/MyDrive/Colab Notebooks/initial/valid/correct_samples\n",
            "generate additional images for train in: /content/drive/MyDrive/Colab Notebooks/initial/train/correct_samples\n",
            "generate additional images for validation in: /content/drive/MyDrive/Colab Notebooks/initial/valid/correct_samples\n",
            "generate additional images for train in: /content/drive/MyDrive/Colab Notebooks/initial/train/correct_samples\n",
            "generate additional images for validation in: /content/drive/MyDrive/Colab Notebooks/initial/valid/correct_samples\n",
            "generate additional images for train in: /content/drive/MyDrive/Colab Notebooks/initial/train/correct_samples\n",
            "generate additional images for validation in: /content/drive/MyDrive/Colab Notebooks/initial/valid/correct_samples\n",
            "generate additional images for train in: /content/drive/MyDrive/Colab Notebooks/initial/train/correct_samples\n",
            "generate additional images for validation in: /content/drive/MyDrive/Colab Notebooks/initial/valid/correct_samples\n",
            "generate additional images for train in: /content/drive/MyDrive/Colab Notebooks/initial/train/correct_samples\n",
            "generate additional images for validation in: /content/drive/MyDrive/Colab Notebooks/initial/valid/correct_samples\n",
            "generate additional images for train in: /content/drive/MyDrive/Colab Notebooks/initial/train/correct_samples\n",
            "generate additional images for validation in: /content/drive/MyDrive/Colab Notebooks/initial/valid/correct_samples\n",
            "generate additional images for train in: /content/drive/MyDrive/Colab Notebooks/initial/train/correct_samples\n",
            "generate additional images for validation in: /content/drive/MyDrive/Colab Notebooks/initial/valid/correct_samples\n",
            "generate additional images for train in: /content/drive/MyDrive/Colab Notebooks/initial/train/correct_samples\n",
            "generate additional images for validation in: /content/drive/MyDrive/Colab Notebooks/initial/valid/correct_samples\n",
            "generate additional images for train in: /content/drive/MyDrive/Colab Notebooks/initial/train/correct_samples\n",
            "generate additional images for validation in: /content/drive/MyDrive/Colab Notebooks/initial/valid/correct_samples\n",
            "generate additional images for train in: /content/drive/MyDrive/Colab Notebooks/initial/train/correct_samples\n",
            "generate additional images for validation in: /content/drive/MyDrive/Colab Notebooks/initial/valid/correct_samples\n",
            "generate additional images for train in: /content/drive/MyDrive/Colab Notebooks/initial/train/correct_samples\n",
            "generate additional images for validation in: /content/drive/MyDrive/Colab Notebooks/initial/valid/correct_samples\n",
            "generate additional images for train in: /content/drive/MyDrive/Colab Notebooks/initial/train/correct_samples\n",
            "generate additional images for validation in: /content/drive/MyDrive/Colab Notebooks/initial/valid/correct_samples\n",
            "generate additional images for train in: /content/drive/MyDrive/Colab Notebooks/initial/train/correct_samples\n",
            "generate additional images for validation in: /content/drive/MyDrive/Colab Notebooks/initial/valid/correct_samples\n",
            "generate additional images for train in: /content/drive/MyDrive/Colab Notebooks/initial/train/correct_samples\n",
            "generate additional images for validation in: /content/drive/MyDrive/Colab Notebooks/initial/valid/correct_samples\n",
            "generate additional images for train in: /content/drive/MyDrive/Colab Notebooks/initial/train/correct_samples\n",
            "generate additional images for validation in: /content/drive/MyDrive/Colab Notebooks/initial/valid/correct_samples\n",
            "generate additional images for train in: /content/drive/MyDrive/Colab Notebooks/initial/train/correct_samples\n",
            "generate additional images for validation in: /content/drive/MyDrive/Colab Notebooks/initial/valid/correct_samples\n",
            "generate additional images for train in: /content/drive/MyDrive/Colab Notebooks/initial/train/correct_samples\n",
            "generate additional images for validation in: /content/drive/MyDrive/Colab Notebooks/initial/valid/correct_samples\n",
            "generate additional images for train in: /content/drive/MyDrive/Colab Notebooks/initial/train/correct_samples\n",
            "generate additional images for validation in: /content/drive/MyDrive/Colab Notebooks/initial/valid/correct_samples\n",
            "generate additional images for train in: /content/drive/MyDrive/Colab Notebooks/initial/train/correct_samples\n",
            "generate additional images for validation in: /content/drive/MyDrive/Colab Notebooks/initial/valid/correct_samples\n",
            "generate additional images for train in: /content/drive/MyDrive/Colab Notebooks/initial/train/correct_samples\n",
            "generate additional images for validation in: /content/drive/MyDrive/Colab Notebooks/initial/valid/correct_samples\n",
            "generate additional images for train in: /content/drive/MyDrive/Colab Notebooks/initial/train/correct_samples\n",
            "generate additional images for validation in: /content/drive/MyDrive/Colab Notebooks/initial/valid/correct_samples\n",
            "generate additional images for train in: /content/drive/MyDrive/Colab Notebooks/initial/train/correct_samples\n",
            "generate additional images for validation in: /content/drive/MyDrive/Colab Notebooks/initial/valid/correct_samples\n",
            "generate additional images for train in: /content/drive/MyDrive/Colab Notebooks/initial/train/correct_samples\n",
            "generate additional images for validation in: /content/drive/MyDrive/Colab Notebooks/initial/valid/correct_samples\n",
            "generate additional images for train in: /content/drive/MyDrive/Colab Notebooks/initial/train/correct_samples\n",
            "generate additional images for validation in: /content/drive/MyDrive/Colab Notebooks/initial/valid/correct_samples\n",
            "generate additional images for train in: /content/drive/MyDrive/Colab Notebooks/initial/train/correct_samples\n",
            "generate additional images for validation in: /content/drive/MyDrive/Colab Notebooks/initial/valid/correct_samples\n",
            "generate additional images for train in: /content/drive/MyDrive/Colab Notebooks/initial/train/correct_samples\n",
            "generate additional images for validation in: /content/drive/MyDrive/Colab Notebooks/initial/valid/correct_samples\n",
            "generate additional images for train in: /content/drive/MyDrive/Colab Notebooks/initial/train/correct_samples\n",
            "generate additional images for validation in: /content/drive/MyDrive/Colab Notebooks/initial/valid/correct_samples\n",
            "generate additional images for train in: /content/drive/MyDrive/Colab Notebooks/initial/train/correct_samples\n",
            "generate additional images for validation in: /content/drive/MyDrive/Colab Notebooks/initial/valid/correct_samples\n",
            "generate additional images for train in: /content/drive/MyDrive/Colab Notebooks/initial/train/correct_samples\n",
            "generate additional images for validation in: /content/drive/MyDrive/Colab Notebooks/initial/valid/correct_samples\n",
            "generate additional images for train in: /content/drive/MyDrive/Colab Notebooks/initial/train/correct_samples\n",
            "generate additional images for validation in: /content/drive/MyDrive/Colab Notebooks/initial/valid/correct_samples\n",
            "generate additional images for train in: /content/drive/MyDrive/Colab Notebooks/initial/train/correct_samples\n",
            "generate additional images for validation in: /content/drive/MyDrive/Colab Notebooks/initial/valid/correct_samples\n",
            "generate additional images for train in: /content/drive/MyDrive/Colab Notebooks/initial/train/correct_samples\n",
            "generate additional images for validation in: /content/drive/MyDrive/Colab Notebooks/initial/valid/correct_samples\n",
            "generate additional images for train in: /content/drive/MyDrive/Colab Notebooks/initial/train/correct_samples\n",
            "generate additional images for validation in: /content/drive/MyDrive/Colab Notebooks/initial/valid/correct_samples\n",
            "generate additional images for train in: /content/drive/MyDrive/Colab Notebooks/initial/train/correct_samples\n",
            "generate additional images for validation in: /content/drive/MyDrive/Colab Notebooks/initial/valid/correct_samples\n",
            "generate additional images for train in: /content/drive/MyDrive/Colab Notebooks/initial/train/correct_samples\n",
            "generate additional images for validation in: /content/drive/MyDrive/Colab Notebooks/initial/valid/correct_samples\n",
            "generate additional images for train in: /content/drive/MyDrive/Colab Notebooks/initial/train/correct_samples\n",
            "generate additional images for validation in: /content/drive/MyDrive/Colab Notebooks/initial/valid/correct_samples\n",
            "generate additional images for train in: /content/drive/MyDrive/Colab Notebooks/initial/train/correct_samples\n",
            "generate additional images for validation in: /content/drive/MyDrive/Colab Notebooks/initial/valid/correct_samples\n",
            "generate additional images for train in: /content/drive/MyDrive/Colab Notebooks/initial/train/correct_samples\n",
            "generate additional images for validation in: /content/drive/MyDrive/Colab Notebooks/initial/valid/correct_samples\n",
            "generate additional images for train in: /content/drive/MyDrive/Colab Notebooks/initial/train/correct_samples\n",
            "generate additional images for validation in: /content/drive/MyDrive/Colab Notebooks/initial/valid/correct_samples\n",
            "generate additional images for train in: /content/drive/MyDrive/Colab Notebooks/initial/train/correct_samples\n",
            "generate additional images for validation in: /content/drive/MyDrive/Colab Notebooks/initial/valid/correct_samples\n",
            "generate additional images for train in: /content/drive/MyDrive/Colab Notebooks/initial/train/correct_samples\n",
            "generate additional images for validation in: /content/drive/MyDrive/Colab Notebooks/initial/valid/correct_samples\n",
            "generate additional images for train in: /content/drive/MyDrive/Colab Notebooks/initial/train/correct_samples\n",
            "generate additional images for validation in: /content/drive/MyDrive/Colab Notebooks/initial/valid/correct_samples\n",
            "generate additional images for train in: /content/drive/MyDrive/Colab Notebooks/initial/train/correct_samples\n",
            "generate additional images for validation in: /content/drive/MyDrive/Colab Notebooks/initial/valid/correct_samples\n",
            "generate additional images for train in: /content/drive/MyDrive/Colab Notebooks/initial/train/correct_samples\n",
            "generate additional images for validation in: /content/drive/MyDrive/Colab Notebooks/initial/valid/correct_samples\n",
            "generate additional images for train in: /content/drive/MyDrive/Colab Notebooks/initial/train/correct_samples\n",
            "generate additional images for validation in: /content/drive/MyDrive/Colab Notebooks/initial/valid/correct_samples\n",
            "generate additional images for train in: /content/drive/MyDrive/Colab Notebooks/initial/train/correct_samples\n",
            "generate additional images for validation in: /content/drive/MyDrive/Colab Notebooks/initial/valid/correct_samples\n",
            "generate additional images for train in: /content/drive/MyDrive/Colab Notebooks/initial/train/correct_samples\n",
            "generate additional images for validation in: /content/drive/MyDrive/Colab Notebooks/initial/valid/correct_samples\n",
            "generate additional images for train in: /content/drive/MyDrive/Colab Notebooks/initial/train/correct_samples\n",
            "generate additional images for validation in: /content/drive/MyDrive/Colab Notebooks/initial/valid/correct_samples\n",
            "generate additional images for train in: /content/drive/MyDrive/Colab Notebooks/initial/train/correct_samples\n",
            "generate additional images for validation in: /content/drive/MyDrive/Colab Notebooks/initial/valid/correct_samples\n",
            "generate additional images for train in: /content/drive/MyDrive/Colab Notebooks/initial/train/correct_samples\n",
            "generate additional images for validation in: /content/drive/MyDrive/Colab Notebooks/initial/valid/correct_samples\n",
            "generate additional images for train in: /content/drive/MyDrive/Colab Notebooks/initial/train/correct_samples\n",
            "generate additional images for validation in: /content/drive/MyDrive/Colab Notebooks/initial/valid/correct_samples\n",
            "generate additional images for train in: /content/drive/MyDrive/Colab Notebooks/initial/train/correct_samples\n",
            "generate additional images for validation in: /content/drive/MyDrive/Colab Notebooks/initial/valid/correct_samples\n",
            "generate additional images for train in: /content/drive/MyDrive/Colab Notebooks/initial/train/correct_samples\n",
            "generate additional images for validation in: /content/drive/MyDrive/Colab Notebooks/initial/valid/correct_samples\n",
            "generate additional images for train in: /content/drive/MyDrive/Colab Notebooks/initial/train/correct_samples\n",
            "generate additional images for validation in: /content/drive/MyDrive/Colab Notebooks/initial/valid/correct_samples\n",
            "generate additional images for train in: /content/drive/MyDrive/Colab Notebooks/initial/train/correct_samples\n",
            "generate additional images for validation in: /content/drive/MyDrive/Colab Notebooks/initial/valid/correct_samples\n",
            "generate additional images for train in: /content/drive/MyDrive/Colab Notebooks/initial/train/correct_samples\n",
            "generate additional images for validation in: /content/drive/MyDrive/Colab Notebooks/initial/valid/correct_samples\n",
            "generate additional images for train in: /content/drive/MyDrive/Colab Notebooks/initial/train/correct_samples\n",
            "generate additional images for validation in: /content/drive/MyDrive/Colab Notebooks/initial/valid/correct_samples\n",
            "generate additional images for train in: /content/drive/MyDrive/Colab Notebooks/initial/train/correct_samples\n",
            "generate additional images for validation in: /content/drive/MyDrive/Colab Notebooks/initial/valid/correct_samples\n",
            "generate additional images for train in: /content/drive/MyDrive/Colab Notebooks/initial/train/correct_samples\n",
            "generate additional images for validation in: /content/drive/MyDrive/Colab Notebooks/initial/valid/correct_samples\n",
            "generate additional images for train in: /content/drive/MyDrive/Colab Notebooks/initial/train/correct_samples\n",
            "generate additional images for validation in: /content/drive/MyDrive/Colab Notebooks/initial/valid/correct_samples\n",
            "generate additional images for train in: /content/drive/MyDrive/Colab Notebooks/initial/train/correct_samples\n",
            "generate additional images for validation in: /content/drive/MyDrive/Colab Notebooks/initial/valid/correct_samples\n",
            "generate additional images for train in: /content/drive/MyDrive/Colab Notebooks/initial/train/correct_samples\n",
            "generate additional images for validation in: /content/drive/MyDrive/Colab Notebooks/initial/valid/correct_samples\n",
            "generate additional images for train in: /content/drive/MyDrive/Colab Notebooks/initial/train/correct_samples\n",
            "generate additional images for validation in: /content/drive/MyDrive/Colab Notebooks/initial/valid/correct_samples\n",
            "generate additional images for train in: /content/drive/MyDrive/Colab Notebooks/initial/train/correct_samples\n",
            "generate additional images for validation in: /content/drive/MyDrive/Colab Notebooks/initial/valid/correct_samples\n",
            "generate additional images for train in: /content/drive/MyDrive/Colab Notebooks/initial/train/correct_samples\n",
            "generate additional images for validation in: /content/drive/MyDrive/Colab Notebooks/initial/valid/correct_samples\n",
            "generate additional images for train in: /content/drive/MyDrive/Colab Notebooks/initial/train/correct_samples\n",
            "generate additional images for validation in: /content/drive/MyDrive/Colab Notebooks/initial/valid/correct_samples\n",
            "generate additional images for train in: /content/drive/MyDrive/Colab Notebooks/initial/train/correct_samples\n",
            "generate additional images for validation in: /content/drive/MyDrive/Colab Notebooks/initial/valid/correct_samples\n",
            "generate additional images for train in: /content/drive/MyDrive/Colab Notebooks/initial/train/correct_samples\n",
            "generate additional images for validation in: /content/drive/MyDrive/Colab Notebooks/initial/valid/correct_samples\n",
            "generate additional images for train in: /content/drive/MyDrive/Colab Notebooks/initial/train/correct_samples\n",
            "generate additional images for validation in: /content/drive/MyDrive/Colab Notebooks/initial/valid/correct_samples\n",
            "generate additional images for train in: /content/drive/MyDrive/Colab Notebooks/initial/train/correct_samples\n",
            "generate additional images for validation in: /content/drive/MyDrive/Colab Notebooks/initial/valid/correct_samples\n",
            "generate additional images for train in: /content/drive/MyDrive/Colab Notebooks/initial/train/correct_samples\n",
            "generate additional images for validation in: /content/drive/MyDrive/Colab Notebooks/initial/valid/correct_samples\n",
            "generate additional images for train in: /content/drive/MyDrive/Colab Notebooks/initial/train/correct_samples\n",
            "generate additional images for validation in: /content/drive/MyDrive/Colab Notebooks/initial/valid/correct_samples\n",
            "generate additional images for train in: /content/drive/MyDrive/Colab Notebooks/initial/train/correct_samples\n",
            "generate additional images for validation in: /content/drive/MyDrive/Colab Notebooks/initial/valid/correct_samples\n",
            "generate additional images for train in: /content/drive/MyDrive/Colab Notebooks/initial/train/correct_samples\n",
            "generate additional images for validation in: /content/drive/MyDrive/Colab Notebooks/initial/valid/correct_samples\n",
            "generate additional images for train in: /content/drive/MyDrive/Colab Notebooks/initial/train/correct_samples\n",
            "generate additional images for validation in: /content/drive/MyDrive/Colab Notebooks/initial/valid/correct_samples\n",
            "generate additional images for train in: /content/drive/MyDrive/Colab Notebooks/initial/train/correct_samples\n",
            "generate additional images for validation in: /content/drive/MyDrive/Colab Notebooks/initial/valid/correct_samples\n",
            "generate additional images for train in: /content/drive/MyDrive/Colab Notebooks/initial/train/correct_samples\n",
            "generate additional images for validation in: /content/drive/MyDrive/Colab Notebooks/initial/valid/correct_samples\n",
            "generate additional images for train in: /content/drive/MyDrive/Colab Notebooks/initial/train/correct_samples\n",
            "generate additional images for validation in: /content/drive/MyDrive/Colab Notebooks/initial/valid/correct_samples\n",
            "generate additional images for train in: /content/drive/MyDrive/Colab Notebooks/initial/train/correct_samples\n",
            "generate additional images for validation in: /content/drive/MyDrive/Colab Notebooks/initial/valid/correct_samples\n",
            "generate additional images for train in: /content/drive/MyDrive/Colab Notebooks/initial/train/correct_samples\n",
            "generate additional images for validation in: /content/drive/MyDrive/Colab Notebooks/initial/valid/correct_samples\n",
            "generate additional images for train in: /content/drive/MyDrive/Colab Notebooks/initial/train/correct_samples\n",
            "generate additional images for validation in: /content/drive/MyDrive/Colab Notebooks/initial/valid/correct_samples\n",
            "generate additional images for train in: /content/drive/MyDrive/Colab Notebooks/initial/train/correct_samples\n",
            "generate additional images for validation in: /content/drive/MyDrive/Colab Notebooks/initial/valid/correct_samples\n",
            "generate additional images for train in: /content/drive/MyDrive/Colab Notebooks/initial/train/correct_samples\n",
            "generate additional images for validation in: /content/drive/MyDrive/Colab Notebooks/initial/valid/correct_samples\n",
            "generate additional images for train in: /content/drive/MyDrive/Colab Notebooks/initial/train/correct_samples\n",
            "generate additional images for validation in: /content/drive/MyDrive/Colab Notebooks/initial/valid/correct_samples\n",
            "generate additional images for train in: /content/drive/MyDrive/Colab Notebooks/initial/train/correct_samples\n",
            "generate additional images for validation in: /content/drive/MyDrive/Colab Notebooks/initial/valid/correct_samples\n",
            "generate additional images for train in: /content/drive/MyDrive/Colab Notebooks/initial/train/correct_samples\n",
            "generate additional images for validation in: /content/drive/MyDrive/Colab Notebooks/initial/valid/correct_samples\n",
            "generate additional images for train in: /content/drive/MyDrive/Colab Notebooks/initial/train/correct_samples\n",
            "generate additional images for validation in: /content/drive/MyDrive/Colab Notebooks/initial/valid/correct_samples\n",
            "generate additional images for train in: /content/drive/MyDrive/Colab Notebooks/initial/train/correct_samples\n",
            "generate additional images for validation in: /content/drive/MyDrive/Colab Notebooks/initial/valid/correct_samples\n",
            "generate additional images for train in: /content/drive/MyDrive/Colab Notebooks/initial/train/correct_samples\n",
            "generate additional images for validation in: /content/drive/MyDrive/Colab Notebooks/initial/valid/correct_samples\n",
            "generate additional images for train in: /content/drive/MyDrive/Colab Notebooks/initial/train/correct_samples\n",
            "generate additional images for validation in: /content/drive/MyDrive/Colab Notebooks/initial/valid/correct_samples\n",
            "generate additional images for train in: /content/drive/MyDrive/Colab Notebooks/initial/train/correct_samples\n",
            "generate additional images for validation in: /content/drive/MyDrive/Colab Notebooks/initial/valid/correct_samples\n",
            "generate additional images for train in: /content/drive/MyDrive/Colab Notebooks/initial/train/correct_samples\n",
            "generate additional images for validation in: /content/drive/MyDrive/Colab Notebooks/initial/valid/correct_samples\n",
            "generate additional images for train in: /content/drive/MyDrive/Colab Notebooks/initial/train/correct_samples\n",
            "generate additional images for validation in: /content/drive/MyDrive/Colab Notebooks/initial/valid/correct_samples\n",
            "generate additional images for train in: /content/drive/MyDrive/Colab Notebooks/initial/train/correct_samples\n",
            "generate additional images for validation in: /content/drive/MyDrive/Colab Notebooks/initial/valid/correct_samples\n",
            "generate additional images for train in: /content/drive/MyDrive/Colab Notebooks/initial/train/correct_samples\n",
            "generate additional images for validation in: /content/drive/MyDrive/Colab Notebooks/initial/valid/correct_samples\n",
            "generate additional images for train in: /content/drive/MyDrive/Colab Notebooks/initial/train/correct_samples\n",
            "generate additional images for validation in: /content/drive/MyDrive/Colab Notebooks/initial/valid/correct_samples\n",
            "generate additional images for train in: /content/drive/MyDrive/Colab Notebooks/initial/train/correct_samples\n",
            "generate additional images for validation in: /content/drive/MyDrive/Colab Notebooks/initial/valid/correct_samples\n",
            "generate additional images for train in: /content/drive/MyDrive/Colab Notebooks/initial/train/correct_samples\n",
            "generate additional images for validation in: /content/drive/MyDrive/Colab Notebooks/initial/valid/correct_samples\n",
            "generate additional images for train in: /content/drive/MyDrive/Colab Notebooks/initial/train/correct_samples\n",
            "generate additional images for validation in: /content/drive/MyDrive/Colab Notebooks/initial/valid/correct_samples\n",
            "generate additional images for train in: /content/drive/MyDrive/Colab Notebooks/initial/train/correct_samples\n",
            "generate additional images for validation in: /content/drive/MyDrive/Colab Notebooks/initial/valid/correct_samples\n",
            "generate additional images for train in: /content/drive/MyDrive/Colab Notebooks/initial/train/correct_samples\n",
            "generate additional images for validation in: /content/drive/MyDrive/Colab Notebooks/initial/valid/correct_samples\n",
            "generate additional images for train in: /content/drive/MyDrive/Colab Notebooks/initial/train/correct_samples\n",
            "generate additional images for validation in: /content/drive/MyDrive/Colab Notebooks/initial/valid/correct_samples\n",
            "generate additional images for train in: /content/drive/MyDrive/Colab Notebooks/initial/train/correct_samples\n",
            "generate additional images for validation in: /content/drive/MyDrive/Colab Notebooks/initial/valid/correct_samples\n",
            "generate additional images for train in: /content/drive/MyDrive/Colab Notebooks/initial/train/correct_samples\n",
            "generate additional images for validation in: /content/drive/MyDrive/Colab Notebooks/initial/valid/correct_samples\n",
            "generate additional images for train in: /content/drive/MyDrive/Colab Notebooks/initial/train/correct_samples\n",
            "generate additional images for validation in: /content/drive/MyDrive/Colab Notebooks/initial/valid/correct_samples\n",
            "generate additional images for train in: /content/drive/MyDrive/Colab Notebooks/initial/train/correct_samples\n",
            "generate additional images for validation in: /content/drive/MyDrive/Colab Notebooks/initial/valid/correct_samples\n",
            "generate additional images for train in: /content/drive/MyDrive/Colab Notebooks/initial/train/correct_samples\n",
            "generate additional images for validation in: /content/drive/MyDrive/Colab Notebooks/initial/valid/correct_samples\n",
            "generate additional images for train in: /content/drive/MyDrive/Colab Notebooks/initial/train/correct_samples\n",
            "generate additional images for validation in: /content/drive/MyDrive/Colab Notebooks/initial/valid/correct_samples\n",
            "generate additional images for train in: /content/drive/MyDrive/Colab Notebooks/initial/train/correct_samples\n",
            "generate additional images for validation in: /content/drive/MyDrive/Colab Notebooks/initial/valid/correct_samples\n",
            "generate additional images for train in: /content/drive/MyDrive/Colab Notebooks/initial/train/correct_samples\n",
            "generate additional images for validation in: /content/drive/MyDrive/Colab Notebooks/initial/valid/correct_samples\n",
            "generate additional images for train in: /content/drive/MyDrive/Colab Notebooks/initial/train/correct_samples\n",
            "generate additional images for validation in: /content/drive/MyDrive/Colab Notebooks/initial/valid/correct_samples\n",
            "generate additional images for train in: /content/drive/MyDrive/Colab Notebooks/initial/train/correct_samples\n",
            "generate additional images for validation in: /content/drive/MyDrive/Colab Notebooks/initial/valid/correct_samples\n",
            "generate additional images for train in: /content/drive/MyDrive/Colab Notebooks/initial/train/correct_samples\n",
            "generate additional images for validation in: /content/drive/MyDrive/Colab Notebooks/initial/valid/correct_samples\n",
            "generate additional images for train in: /content/drive/MyDrive/Colab Notebooks/initial/train/correct_samples\n",
            "generate additional images for validation in: /content/drive/MyDrive/Colab Notebooks/initial/valid/correct_samples\n",
            "generate additional images for train in: /content/drive/MyDrive/Colab Notebooks/initial/train/correct_samples\n",
            "generate additional images for validation in: /content/drive/MyDrive/Colab Notebooks/initial/valid/correct_samples\n",
            "generate additional images for train in: /content/drive/MyDrive/Colab Notebooks/initial/train/correct_samples\n",
            "generate additional images for validation in: /content/drive/MyDrive/Colab Notebooks/initial/valid/correct_samples\n",
            "generate additional images for train in: /content/drive/MyDrive/Colab Notebooks/initial/train/correct_samples\n",
            "generate additional images for validation in: /content/drive/MyDrive/Colab Notebooks/initial/valid/correct_samples\n",
            "generate additional images for train in: /content/drive/MyDrive/Colab Notebooks/initial/train/correct_samples\n",
            "generate additional images for validation in: /content/drive/MyDrive/Colab Notebooks/initial/valid/correct_samples\n",
            "generate additional images for train in: /content/drive/MyDrive/Colab Notebooks/initial/train/correct_samples\n",
            "generate additional images for validation in: /content/drive/MyDrive/Colab Notebooks/initial/valid/correct_samples\n",
            "generate additional images for train in: /content/drive/MyDrive/Colab Notebooks/initial/train/correct_samples\n",
            "generate additional images for validation in: /content/drive/MyDrive/Colab Notebooks/initial/valid/correct_samples\n",
            "generate additional images for train in: /content/drive/MyDrive/Colab Notebooks/initial/train/correct_samples\n",
            "generate additional images for validation in: /content/drive/MyDrive/Colab Notebooks/initial/valid/correct_samples\n",
            "generate additional images for train in: /content/drive/MyDrive/Colab Notebooks/initial/train/correct_samples\n",
            "generate additional images for validation in: /content/drive/MyDrive/Colab Notebooks/initial/valid/correct_samples\n",
            "generate additional images for train in: /content/drive/MyDrive/Colab Notebooks/initial/train/correct_samples\n",
            "generate additional images for validation in: /content/drive/MyDrive/Colab Notebooks/initial/valid/correct_samples\n",
            "generate additional images for train in: /content/drive/MyDrive/Colab Notebooks/initial/train/correct_samples\n",
            "generate additional images for validation in: /content/drive/MyDrive/Colab Notebooks/initial/valid/correct_samples\n",
            "generate additional images for train in: /content/drive/MyDrive/Colab Notebooks/initial/train/correct_samples\n",
            "generate additional images for validation in: /content/drive/MyDrive/Colab Notebooks/initial/valid/correct_samples\n",
            "generate additional images for train in: /content/drive/MyDrive/Colab Notebooks/initial/train/correct_samples\n",
            "generate additional images for validation in: /content/drive/MyDrive/Colab Notebooks/initial/valid/correct_samples\n",
            "generate additional images for train in: /content/drive/MyDrive/Colab Notebooks/initial/train/correct_samples\n",
            "generate additional images for validation in: /content/drive/MyDrive/Colab Notebooks/initial/valid/correct_samples\n",
            "generate additional images for train in: /content/drive/MyDrive/Colab Notebooks/initial/train/correct_samples\n",
            "generate additional images for validation in: /content/drive/MyDrive/Colab Notebooks/initial/valid/correct_samples\n",
            "generate additional images for train in: /content/drive/MyDrive/Colab Notebooks/initial/train/correct_samples\n",
            "generate additional images for validation in: /content/drive/MyDrive/Colab Notebooks/initial/valid/correct_samples\n",
            "generate additional images for train in: /content/drive/MyDrive/Colab Notebooks/initial/train/correct_samples\n",
            "generate additional images for validation in: /content/drive/MyDrive/Colab Notebooks/initial/valid/correct_samples\n",
            "generate additional images for train in: /content/drive/MyDrive/Colab Notebooks/initial/train/correct_samples\n",
            "generate additional images for validation in: /content/drive/MyDrive/Colab Notebooks/initial/valid/correct_samples\n",
            "generate additional images for train in: /content/drive/MyDrive/Colab Notebooks/initial/train/correct_samples\n",
            "generate additional images for validation in: /content/drive/MyDrive/Colab Notebooks/initial/valid/correct_samples\n",
            "generate additional images for train in: /content/drive/MyDrive/Colab Notebooks/initial/train/correct_samples\n",
            "generate additional images for validation in: /content/drive/MyDrive/Colab Notebooks/initial/valid/correct_samples\n",
            "generate additional images for train in: /content/drive/MyDrive/Colab Notebooks/initial/train/correct_samples\n",
            "generate additional images for validation in: /content/drive/MyDrive/Colab Notebooks/initial/valid/correct_samples\n",
            "generate additional images for train in: /content/drive/MyDrive/Colab Notebooks/initial/train/correct_samples\n",
            "generate additional images for validation in: /content/drive/MyDrive/Colab Notebooks/initial/valid/correct_samples\n",
            "generate additional images for train in: /content/drive/MyDrive/Colab Notebooks/initial/train/correct_samples\n",
            "generate additional images for validation in: /content/drive/MyDrive/Colab Notebooks/initial/valid/correct_samples\n",
            "generate additional images for train in: /content/drive/MyDrive/Colab Notebooks/initial/train/correct_samples\n",
            "generate additional images for validation in: /content/drive/MyDrive/Colab Notebooks/initial/valid/correct_samples\n",
            "generate additional images for train in: /content/drive/MyDrive/Colab Notebooks/initial/train/correct_samples\n",
            "generate additional images for validation in: /content/drive/MyDrive/Colab Notebooks/initial/valid/correct_samples\n",
            "generate additional images for train in: /content/drive/MyDrive/Colab Notebooks/initial/train/correct_samples\n",
            "generate additional images for validation in: /content/drive/MyDrive/Colab Notebooks/initial/valid/correct_samples\n",
            "generate additional images for train in: /content/drive/MyDrive/Colab Notebooks/initial/train/correct_samples\n",
            "generate additional images for validation in: /content/drive/MyDrive/Colab Notebooks/initial/valid/correct_samples\n",
            "generate additional images for train in: /content/drive/MyDrive/Colab Notebooks/initial/train/correct_samples\n",
            "generate additional images for validation in: /content/drive/MyDrive/Colab Notebooks/initial/valid/correct_samples\n",
            "generate additional images for train in: /content/drive/MyDrive/Colab Notebooks/initial/train/correct_samples\n",
            "generate additional images for validation in: /content/drive/MyDrive/Colab Notebooks/initial/valid/correct_samples\n",
            "generate additional images for train in: /content/drive/MyDrive/Colab Notebooks/initial/train/correct_samples\n",
            "generate additional images for validation in: /content/drive/MyDrive/Colab Notebooks/initial/valid/correct_samples\n",
            "generate additional images for train in: /content/drive/MyDrive/Colab Notebooks/initial/train/correct_samples\n",
            "generate additional images for validation in: /content/drive/MyDrive/Colab Notebooks/initial/valid/correct_samples\n",
            "generate additional images for train in: /content/drive/MyDrive/Colab Notebooks/initial/train/correct_samples\n",
            "generate additional images for validation in: /content/drive/MyDrive/Colab Notebooks/initial/valid/correct_samples\n",
            "generate additional images for train in: /content/drive/MyDrive/Colab Notebooks/initial/train/correct_samples\n",
            "generate additional images for validation in: /content/drive/MyDrive/Colab Notebooks/initial/valid/correct_samples\n",
            "generate additional images for train in: /content/drive/MyDrive/Colab Notebooks/initial/train/correct_samples\n",
            "generate additional images for validation in: /content/drive/MyDrive/Colab Notebooks/initial/valid/correct_samples\n",
            "generate additional images for train in: /content/drive/MyDrive/Colab Notebooks/initial/train/correct_samples\n",
            "generate additional images for validation in: /content/drive/MyDrive/Colab Notebooks/initial/valid/correct_samples\n",
            "generate additional images for train in: /content/drive/MyDrive/Colab Notebooks/initial/train/correct_samples\n",
            "generate additional images for validation in: /content/drive/MyDrive/Colab Notebooks/initial/valid/correct_samples\n",
            "generate additional images for train in: /content/drive/MyDrive/Colab Notebooks/initial/train/correct_samples\n",
            "generate additional images for validation in: /content/drive/MyDrive/Colab Notebooks/initial/valid/correct_samples\n",
            "generate additional images for train in: /content/drive/MyDrive/Colab Notebooks/initial/train/correct_samples\n",
            "generate additional images for validation in: /content/drive/MyDrive/Colab Notebooks/initial/valid/correct_samples\n",
            "generate additional images for train in: /content/drive/MyDrive/Colab Notebooks/initial/train/correct_samples\n",
            "generate additional images for validation in: /content/drive/MyDrive/Colab Notebooks/initial/valid/correct_samples\n",
            "generate additional images for train in: /content/drive/MyDrive/Colab Notebooks/initial/train/correct_samples\n",
            "generate additional images for validation in: /content/drive/MyDrive/Colab Notebooks/initial/valid/correct_samples\n",
            "generate additional images for train in: /content/drive/MyDrive/Colab Notebooks/initial/train/correct_samples\n",
            "generate additional images for validation in: /content/drive/MyDrive/Colab Notebooks/initial/valid/correct_samples\n",
            "generate additional images for train in: /content/drive/MyDrive/Colab Notebooks/initial/train/correct_samples\n",
            "generate additional images for validation in: /content/drive/MyDrive/Colab Notebooks/initial/valid/correct_samples\n",
            "generate additional images for train in: /content/drive/MyDrive/Colab Notebooks/initial/train/correct_samples\n",
            "generate additional images for validation in: /content/drive/MyDrive/Colab Notebooks/initial/valid/correct_samples\n",
            "generate additional images for train in: /content/drive/MyDrive/Colab Notebooks/initial/train/correct_samples\n",
            "generate additional images for validation in: /content/drive/MyDrive/Colab Notebooks/initial/valid/correct_samples\n",
            "generate additional images for train in: /content/drive/MyDrive/Colab Notebooks/initial/train/correct_samples\n",
            "generate additional images for validation in: /content/drive/MyDrive/Colab Notebooks/initial/valid/correct_samples\n",
            "generate additional images for train in: /content/drive/MyDrive/Colab Notebooks/initial/train/correct_samples\n",
            "generate additional images for validation in: /content/drive/MyDrive/Colab Notebooks/initial/valid/correct_samples\n",
            "generate additional images for train in: /content/drive/MyDrive/Colab Notebooks/initial/train/correct_samples\n",
            "generate additional images for validation in: /content/drive/MyDrive/Colab Notebooks/initial/valid/correct_samples\n",
            "generate additional images for train in: /content/drive/MyDrive/Colab Notebooks/initial/train/correct_samples\n",
            "generate additional images for validation in: /content/drive/MyDrive/Colab Notebooks/initial/valid/correct_samples\n",
            "generate additional images for train in: /content/drive/MyDrive/Colab Notebooks/initial/train/correct_samples\n",
            "generate additional images for validation in: /content/drive/MyDrive/Colab Notebooks/initial/valid/correct_samples\n",
            "generate additional images for train in: /content/drive/MyDrive/Colab Notebooks/initial/train/correct_samples\n",
            "generate additional images for validation in: /content/drive/MyDrive/Colab Notebooks/initial/valid/correct_samples\n",
            "generate additional images for train in: /content/drive/MyDrive/Colab Notebooks/initial/train/correct_samples\n",
            "generate additional images for validation in: /content/drive/MyDrive/Colab Notebooks/initial/valid/correct_samples\n",
            "generate additional images for train in: /content/drive/MyDrive/Colab Notebooks/initial/train/correct_samples\n",
            "generate additional images for validation in: /content/drive/MyDrive/Colab Notebooks/initial/valid/correct_samples\n",
            "generate additional images for train in: /content/drive/MyDrive/Colab Notebooks/initial/train/correct_samples\n",
            "generate additional images for validation in: /content/drive/MyDrive/Colab Notebooks/initial/valid/correct_samples\n",
            "generate additional images for train in: /content/drive/MyDrive/Colab Notebooks/initial/train/correct_samples\n",
            "generate additional images for validation in: /content/drive/MyDrive/Colab Notebooks/initial/valid/correct_samples\n",
            "generate additional images for train in: /content/drive/MyDrive/Colab Notebooks/initial/train/correct_samples\n",
            "generate additional images for validation in: /content/drive/MyDrive/Colab Notebooks/initial/valid/correct_samples\n",
            "generate additional images for train in: /content/drive/MyDrive/Colab Notebooks/initial/train/correct_samples\n",
            "generate additional images for validation in: /content/drive/MyDrive/Colab Notebooks/initial/valid/correct_samples\n",
            "generate additional images for train in: /content/drive/MyDrive/Colab Notebooks/initial/train/correct_samples\n",
            "generate additional images for validation in: /content/drive/MyDrive/Colab Notebooks/initial/valid/correct_samples\n",
            "generate additional images for train in: /content/drive/MyDrive/Colab Notebooks/initial/train/correct_samples\n",
            "generate additional images for validation in: /content/drive/MyDrive/Colab Notebooks/initial/valid/correct_samples\n",
            "generate additional images for train in: /content/drive/MyDrive/Colab Notebooks/initial/train/correct_samples\n",
            "generate additional images for validation in: /content/drive/MyDrive/Colab Notebooks/initial/valid/correct_samples\n",
            "generate additional images for train in: /content/drive/MyDrive/Colab Notebooks/initial/train/correct_samples\n",
            "generate additional images for validation in: /content/drive/MyDrive/Colab Notebooks/initial/valid/correct_samples\n",
            "generate additional images for train in: /content/drive/MyDrive/Colab Notebooks/initial/train/correct_samples\n",
            "generate additional images for validation in: /content/drive/MyDrive/Colab Notebooks/initial/valid/correct_samples\n",
            "generate additional images for train in: /content/drive/MyDrive/Colab Notebooks/initial/train/correct_samples\n",
            "generate additional images for validation in: /content/drive/MyDrive/Colab Notebooks/initial/valid/correct_samples\n",
            "generate additional images for train in: /content/drive/MyDrive/Colab Notebooks/initial/train/correct_samples\n",
            "generate additional images for validation in: /content/drive/MyDrive/Colab Notebooks/initial/valid/correct_samples\n",
            "generate additional images for train in: /content/drive/MyDrive/Colab Notebooks/initial/train/correct_samples\n",
            "generate additional images for validation in: /content/drive/MyDrive/Colab Notebooks/initial/valid/correct_samples\n",
            "generate additional images for train in: /content/drive/MyDrive/Colab Notebooks/initial/train/correct_samples\n",
            "generate additional images for validation in: /content/drive/MyDrive/Colab Notebooks/initial/valid/correct_samples\n",
            "generate additional images for train in: /content/drive/MyDrive/Colab Notebooks/initial/train/correct_samples\n",
            "generate additional images for validation in: /content/drive/MyDrive/Colab Notebooks/initial/valid/correct_samples\n",
            "generate additional images for train in: /content/drive/MyDrive/Colab Notebooks/initial/train/correct_samples\n",
            "generate additional images for validation in: /content/drive/MyDrive/Colab Notebooks/initial/valid/correct_samples\n",
            "generate additional images for train in: /content/drive/MyDrive/Colab Notebooks/initial/train/correct_samples\n",
            "generate additional images for validation in: /content/drive/MyDrive/Colab Notebooks/initial/valid/correct_samples\n",
            "generate additional images for train in: /content/drive/MyDrive/Colab Notebooks/initial/train/correct_samples\n",
            "generate additional images for validation in: /content/drive/MyDrive/Colab Notebooks/initial/valid/correct_samples\n",
            "generate additional images for train in: /content/drive/MyDrive/Colab Notebooks/initial/train/correct_samples\n",
            "generate additional images for validation in: /content/drive/MyDrive/Colab Notebooks/initial/valid/correct_samples\n",
            "generate additional images for train in: /content/drive/MyDrive/Colab Notebooks/initial/train/correct_samples\n",
            "generate additional images for validation in: /content/drive/MyDrive/Colab Notebooks/initial/valid/correct_samples\n",
            "generate additional images for train in: /content/drive/MyDrive/Colab Notebooks/initial/train/correct_samples\n",
            "generate additional images for validation in: /content/drive/MyDrive/Colab Notebooks/initial/valid/correct_samples\n",
            "generate additional images for train in: /content/drive/MyDrive/Colab Notebooks/initial/train/correct_samples\n",
            "generate additional images for validation in: /content/drive/MyDrive/Colab Notebooks/initial/valid/correct_samples\n",
            "generate additional images for train in: /content/drive/MyDrive/Colab Notebooks/initial/train/correct_samples\n",
            "generate additional images for validation in: /content/drive/MyDrive/Colab Notebooks/initial/valid/correct_samples\n",
            "generate additional images for train in: /content/drive/MyDrive/Colab Notebooks/initial/train/correct_samples\n",
            "generate additional images for validation in: /content/drive/MyDrive/Colab Notebooks/initial/valid/correct_samples\n",
            "generate additional images for train in: /content/drive/MyDrive/Colab Notebooks/initial/train/correct_samples\n",
            "generate additional images for validation in: /content/drive/MyDrive/Colab Notebooks/initial/valid/correct_samples\n",
            "generate additional images for train in: /content/drive/MyDrive/Colab Notebooks/initial/train/correct_samples\n",
            "generate additional images for validation in: /content/drive/MyDrive/Colab Notebooks/initial/valid/correct_samples\n",
            "generate additional images for train in: /content/drive/MyDrive/Colab Notebooks/initial/train/correct_samples\n",
            "generate additional images for validation in: /content/drive/MyDrive/Colab Notebooks/initial/valid/correct_samples\n",
            "generate additional images for train in: /content/drive/MyDrive/Colab Notebooks/initial/train/correct_samples\n",
            "generate additional images for validation in: /content/drive/MyDrive/Colab Notebooks/initial/valid/correct_samples\n",
            "generate additional images for train in: /content/drive/MyDrive/Colab Notebooks/initial/train/correct_samples\n",
            "generate additional images for validation in: /content/drive/MyDrive/Colab Notebooks/initial/valid/correct_samples\n",
            "generate additional images for train in: /content/drive/MyDrive/Colab Notebooks/initial/train/correct_samples\n",
            "generate additional images for validation in: /content/drive/MyDrive/Colab Notebooks/initial/valid/correct_samples\n",
            "generate additional images for train in: /content/drive/MyDrive/Colab Notebooks/initial/train/correct_samples\n",
            "generate additional images for validation in: /content/drive/MyDrive/Colab Notebooks/initial/valid/correct_samples\n",
            "generate additional images for train in: /content/drive/MyDrive/Colab Notebooks/initial/train/correct_samples\n",
            "generate additional images for validation in: /content/drive/MyDrive/Colab Notebooks/initial/valid/correct_samples\n",
            "generate additional images for train in: /content/drive/MyDrive/Colab Notebooks/initial/train/correct_samples\n",
            "generate additional images for validation in: /content/drive/MyDrive/Colab Notebooks/initial/valid/correct_samples\n",
            "generate additional images for train in: /content/drive/MyDrive/Colab Notebooks/initial/train/correct_samples\n",
            "generate additional images for validation in: /content/drive/MyDrive/Colab Notebooks/initial/valid/correct_samples\n",
            "generate additional images for train in: /content/drive/MyDrive/Colab Notebooks/initial/train/correct_samples\n",
            "generate additional images for validation in: /content/drive/MyDrive/Colab Notebooks/initial/valid/correct_samples\n",
            "generate additional images for train in: /content/drive/MyDrive/Colab Notebooks/initial/train/correct_samples\n",
            "generate additional images for validation in: /content/drive/MyDrive/Colab Notebooks/initial/valid/correct_samples\n",
            "generate additional images for train in: /content/drive/MyDrive/Colab Notebooks/initial/train/correct_samples\n",
            "generate additional images for validation in: /content/drive/MyDrive/Colab Notebooks/initial/valid/correct_samples\n",
            "generate additional images for train in: /content/drive/MyDrive/Colab Notebooks/initial/train/correct_samples\n",
            "generate additional images for validation in: /content/drive/MyDrive/Colab Notebooks/initial/valid/correct_samples\n",
            "generate additional images for train in: /content/drive/MyDrive/Colab Notebooks/initial/train/correct_samples\n",
            "generate additional images for validation in: /content/drive/MyDrive/Colab Notebooks/initial/valid/correct_samples\n",
            "generate additional images for train in: /content/drive/MyDrive/Colab Notebooks/initial/train/correct_samples\n",
            "generate additional images for validation in: /content/drive/MyDrive/Colab Notebooks/initial/valid/correct_samples\n",
            "generate additional images for train in: /content/drive/MyDrive/Colab Notebooks/initial/train/correct_samples\n",
            "generate additional images for validation in: /content/drive/MyDrive/Colab Notebooks/initial/valid/correct_samples\n",
            "generate additional images for train in: /content/drive/MyDrive/Colab Notebooks/initial/train/correct_samples\n",
            "generate additional images for validation in: /content/drive/MyDrive/Colab Notebooks/initial/valid/correct_samples\n",
            "generate additional images for train in: /content/drive/MyDrive/Colab Notebooks/initial/train/correct_samples\n",
            "generate additional images for validation in: /content/drive/MyDrive/Colab Notebooks/initial/valid/correct_samples\n",
            "generate additional images for train in: /content/drive/MyDrive/Colab Notebooks/initial/train/correct_samples\n",
            "generate additional images for validation in: /content/drive/MyDrive/Colab Notebooks/initial/valid/correct_samples\n",
            "generate additional images for train in: /content/drive/MyDrive/Colab Notebooks/initial/train/correct_samples\n",
            "generate additional images for validation in: /content/drive/MyDrive/Colab Notebooks/initial/valid/correct_samples\n",
            "generate additional images for train in: /content/drive/MyDrive/Colab Notebooks/initial/train/correct_samples\n",
            "generate additional images for validation in: /content/drive/MyDrive/Colab Notebooks/initial/valid/correct_samples\n",
            "generate additional images for train in: /content/drive/MyDrive/Colab Notebooks/initial/train/correct_samples\n",
            "generate additional images for validation in: /content/drive/MyDrive/Colab Notebooks/initial/valid/correct_samples\n",
            "generate additional images for train in: /content/drive/MyDrive/Colab Notebooks/initial/train/correct_samples\n",
            "generate additional images for validation in: /content/drive/MyDrive/Colab Notebooks/initial/valid/correct_samples\n",
            "generate additional images for train in: /content/drive/MyDrive/Colab Notebooks/initial/train/correct_samples\n",
            "generate additional images for validation in: /content/drive/MyDrive/Colab Notebooks/initial/valid/correct_samples\n",
            "generate additional images for train in: /content/drive/MyDrive/Colab Notebooks/initial/train/correct_samples\n",
            "generate additional images for validation in: /content/drive/MyDrive/Colab Notebooks/initial/valid/correct_samples\n",
            "generate additional images for train in: /content/drive/MyDrive/Colab Notebooks/initial/train/correct_samples\n",
            "generate additional images for validation in: /content/drive/MyDrive/Colab Notebooks/initial/valid/correct_samples\n",
            "generate additional images for train in: /content/drive/MyDrive/Colab Notebooks/initial/train/correct_samples\n",
            "generate additional images for validation in: /content/drive/MyDrive/Colab Notebooks/initial/valid/correct_samples\n",
            "generate additional images for train in: /content/drive/MyDrive/Colab Notebooks/initial/train/correct_samples\n",
            "generate additional images for validation in: /content/drive/MyDrive/Colab Notebooks/initial/valid/correct_samples\n",
            "generate additional images for train in: /content/drive/MyDrive/Colab Notebooks/initial/train/correct_samples\n",
            "generate additional images for validation in: /content/drive/MyDrive/Colab Notebooks/initial/valid/correct_samples\n",
            "generate additional images for train in: /content/drive/MyDrive/Colab Notebooks/initial/train/correct_samples\n",
            "generate additional images for validation in: /content/drive/MyDrive/Colab Notebooks/initial/valid/correct_samples\n",
            "generate additional images for train in: /content/drive/MyDrive/Colab Notebooks/initial/train/correct_samples\n",
            "generate additional images for validation in: /content/drive/MyDrive/Colab Notebooks/initial/valid/correct_samples\n",
            "generate additional images for train in: /content/drive/MyDrive/Colab Notebooks/initial/train/correct_samples\n",
            "generate additional images for validation in: /content/drive/MyDrive/Colab Notebooks/initial/valid/correct_samples\n",
            "generate additional images for train in: /content/drive/MyDrive/Colab Notebooks/initial/train/correct_samples\n",
            "generate additional images for validation in: /content/drive/MyDrive/Colab Notebooks/initial/valid/correct_samples\n",
            "generate additional images for train in: /content/drive/MyDrive/Colab Notebooks/initial/train/correct_samples\n",
            "generate additional images for validation in: /content/drive/MyDrive/Colab Notebooks/initial/valid/correct_samples\n",
            "generate additional images for train in: /content/drive/MyDrive/Colab Notebooks/initial/train/correct_samples\n",
            "generate additional images for validation in: /content/drive/MyDrive/Colab Notebooks/initial/valid/correct_samples\n",
            "generate additional images for train in: /content/drive/MyDrive/Colab Notebooks/initial/train/correct_samples\n",
            "generate additional images for validation in: /content/drive/MyDrive/Colab Notebooks/initial/valid/correct_samples\n",
            "generate additional images for train in: /content/drive/MyDrive/Colab Notebooks/initial/train/correct_samples\n",
            "generate additional images for validation in: /content/drive/MyDrive/Colab Notebooks/initial/valid/correct_samples\n",
            "generate additional images for train in: /content/drive/MyDrive/Colab Notebooks/initial/train/correct_samples\n",
            "generate additional images for validation in: /content/drive/MyDrive/Colab Notebooks/initial/valid/correct_samples\n",
            "generate additional images for train in: /content/drive/MyDrive/Colab Notebooks/initial/train/correct_samples\n",
            "generate additional images for validation in: /content/drive/MyDrive/Colab Notebooks/initial/valid/correct_samples\n",
            "generate additional images for train in: /content/drive/MyDrive/Colab Notebooks/initial/train/correct_samples\n",
            "generate additional images for validation in: /content/drive/MyDrive/Colab Notebooks/initial/valid/correct_samples\n",
            "generate additional images for train in: /content/drive/MyDrive/Colab Notebooks/initial/train/correct_samples\n",
            "generate additional images for validation in: /content/drive/MyDrive/Colab Notebooks/initial/valid/correct_samples\n",
            "generate additional images for train in: /content/drive/MyDrive/Colab Notebooks/initial/train/correct_samples\n",
            "generate additional images for validation in: /content/drive/MyDrive/Colab Notebooks/initial/valid/correct_samples\n",
            "generate additional images for train in: /content/drive/MyDrive/Colab Notebooks/initial/train/correct_samples\n",
            "generate additional images for validation in: /content/drive/MyDrive/Colab Notebooks/initial/valid/correct_samples\n",
            "generate additional images for train in: /content/drive/MyDrive/Colab Notebooks/initial/train/correct_samples\n",
            "generate additional images for validation in: /content/drive/MyDrive/Colab Notebooks/initial/valid/correct_samples\n",
            "generate additional images for train in: /content/drive/MyDrive/Colab Notebooks/initial/train/correct_samples\n",
            "generate additional images for validation in: /content/drive/MyDrive/Colab Notebooks/initial/valid/correct_samples\n",
            "generate additional images for train in: /content/drive/MyDrive/Colab Notebooks/initial/train/correct_samples\n",
            "generate additional images for validation in: /content/drive/MyDrive/Colab Notebooks/initial/valid/correct_samples\n",
            "generate additional images for train in: /content/drive/MyDrive/Colab Notebooks/initial/train/correct_samples\n",
            "generate additional images for validation in: /content/drive/MyDrive/Colab Notebooks/initial/valid/correct_samples\n",
            "generate additional images for train in: /content/drive/MyDrive/Colab Notebooks/initial/train/correct_samples\n",
            "generate additional images for validation in: /content/drive/MyDrive/Colab Notebooks/initial/valid/correct_samples\n",
            "generate additional images for train in: /content/drive/MyDrive/Colab Notebooks/initial/train/correct_samples\n",
            "generate additional images for validation in: /content/drive/MyDrive/Colab Notebooks/initial/valid/correct_samples\n",
            "generate additional images for train in: /content/drive/MyDrive/Colab Notebooks/initial/train/correct_samples\n",
            "generate additional images for validation in: /content/drive/MyDrive/Colab Notebooks/initial/valid/correct_samples\n",
            "generate additional images for train in: /content/drive/MyDrive/Colab Notebooks/initial/train/correct_samples\n",
            "generate additional images for validation in: /content/drive/MyDrive/Colab Notebooks/initial/valid/correct_samples\n",
            "generate additional images for train in: /content/drive/MyDrive/Colab Notebooks/initial/train/correct_samples\n",
            "generate additional images for validation in: /content/drive/MyDrive/Colab Notebooks/initial/valid/correct_samples\n",
            "generate additional images for train in: /content/drive/MyDrive/Colab Notebooks/initial/train/correct_samples\n",
            "generate additional images for validation in: /content/drive/MyDrive/Colab Notebooks/initial/valid/correct_samples\n",
            "generate additional images for train in: /content/drive/MyDrive/Colab Notebooks/initial/train/correct_samples\n",
            "generate additional images for validation in: /content/drive/MyDrive/Colab Notebooks/initial/valid/correct_samples\n",
            "generate additional images for train in: /content/drive/MyDrive/Colab Notebooks/initial/train/correct_samples\n",
            "generate additional images for validation in: /content/drive/MyDrive/Colab Notebooks/initial/valid/correct_samples\n",
            "generate additional images for train in: /content/drive/MyDrive/Colab Notebooks/initial/train/correct_samples\n",
            "generate additional images for validation in: /content/drive/MyDrive/Colab Notebooks/initial/valid/correct_samples\n",
            "generate additional images for train in: /content/drive/MyDrive/Colab Notebooks/initial/train/correct_samples\n",
            "generate additional images for validation in: /content/drive/MyDrive/Colab Notebooks/initial/valid/correct_samples\n",
            "generate additional images for train in: /content/drive/MyDrive/Colab Notebooks/initial/train/correct_samples\n",
            "generate additional images for validation in: /content/drive/MyDrive/Colab Notebooks/initial/valid/correct_samples\n",
            "generate additional images for train in: /content/drive/MyDrive/Colab Notebooks/initial/train/correct_samples\n",
            "generate additional images for validation in: /content/drive/MyDrive/Colab Notebooks/initial/valid/correct_samples\n",
            "generate additional images for train in: /content/drive/MyDrive/Colab Notebooks/initial/train/correct_samples\n",
            "generate additional images for validation in: /content/drive/MyDrive/Colab Notebooks/initial/valid/correct_samples\n",
            "generate additional images for train in: /content/drive/MyDrive/Colab Notebooks/initial/train/correct_samples\n",
            "generate additional images for validation in: /content/drive/MyDrive/Colab Notebooks/initial/valid/correct_samples\n",
            "generate additional images for train in: /content/drive/MyDrive/Colab Notebooks/initial/train/correct_samples\n",
            "generate additional images for validation in: /content/drive/MyDrive/Colab Notebooks/initial/valid/correct_samples\n",
            "generate additional images for train in: /content/drive/MyDrive/Colab Notebooks/initial/train/correct_samples\n",
            "generate additional images for validation in: /content/drive/MyDrive/Colab Notebooks/initial/valid/correct_samples\n",
            "generate additional images for train in: /content/drive/MyDrive/Colab Notebooks/initial/train/correct_samples\n",
            "generate additional images for validation in: /content/drive/MyDrive/Colab Notebooks/initial/valid/correct_samples\n",
            "generate additional images for train in: /content/drive/MyDrive/Colab Notebooks/initial/train/correct_samples\n",
            "generate additional images for validation in: /content/drive/MyDrive/Colab Notebooks/initial/valid/correct_samples\n",
            "generate additional images for train in: /content/drive/MyDrive/Colab Notebooks/initial/train/correct_samples\n",
            "generate additional images for validation in: /content/drive/MyDrive/Colab Notebooks/initial/valid/correct_samples\n",
            "generate additional images for train in: /content/drive/MyDrive/Colab Notebooks/initial/train/correct_samples\n",
            "generate additional images for validation in: /content/drive/MyDrive/Colab Notebooks/initial/valid/correct_samples\n",
            "generate additional images for train in: /content/drive/MyDrive/Colab Notebooks/initial/train/correct_samples\n",
            "generate additional images for validation in: /content/drive/MyDrive/Colab Notebooks/initial/valid/correct_samples\n",
            "generate additional images for train in: /content/drive/MyDrive/Colab Notebooks/initial/train/correct_samples\n",
            "generate additional images for validation in: /content/drive/MyDrive/Colab Notebooks/initial/valid/correct_samples\n",
            "generate additional images for train in: /content/drive/MyDrive/Colab Notebooks/initial/train/correct_samples\n",
            "generate additional images for validation in: /content/drive/MyDrive/Colab Notebooks/initial/valid/correct_samples\n",
            "generate additional images for train in: /content/drive/MyDrive/Colab Notebooks/initial/train/correct_samples\n",
            "generate additional images for validation in: /content/drive/MyDrive/Colab Notebooks/initial/valid/correct_samples\n",
            "generate additional images for train in: /content/drive/MyDrive/Colab Notebooks/initial/train/correct_samples\n",
            "generate additional images for validation in: /content/drive/MyDrive/Colab Notebooks/initial/valid/correct_samples\n",
            "generate additional images for train in: /content/drive/MyDrive/Colab Notebooks/initial/train/correct_samples\n",
            "generate additional images for validation in: /content/drive/MyDrive/Colab Notebooks/initial/valid/correct_samples\n",
            "generate additional images for train in: /content/drive/MyDrive/Colab Notebooks/initial/train/correct_samples\n",
            "generate additional images for validation in: /content/drive/MyDrive/Colab Notebooks/initial/valid/correct_samples\n",
            "generate additional images for train in: /content/drive/MyDrive/Colab Notebooks/initial/train/correct_samples\n",
            "generate additional images for validation in: /content/drive/MyDrive/Colab Notebooks/initial/valid/correct_samples\n",
            "generate additional images for train in: /content/drive/MyDrive/Colab Notebooks/initial/train/correct_samples\n",
            "generate additional images for validation in: /content/drive/MyDrive/Colab Notebooks/initial/valid/correct_samples\n",
            "generate additional images for train in: /content/drive/MyDrive/Colab Notebooks/initial/train/correct_samples\n",
            "generate additional images for validation in: /content/drive/MyDrive/Colab Notebooks/initial/valid/correct_samples\n",
            "generate additional images for train in: /content/drive/MyDrive/Colab Notebooks/initial/train/correct_samples\n",
            "generate additional images for validation in: /content/drive/MyDrive/Colab Notebooks/initial/valid/correct_samples\n",
            "generate additional images for train in: /content/drive/MyDrive/Colab Notebooks/initial/train/correct_samples\n",
            "generate additional images for validation in: /content/drive/MyDrive/Colab Notebooks/initial/valid/correct_samples\n",
            "generate additional images for train in: /content/drive/MyDrive/Colab Notebooks/initial/train/correct_samples\n",
            "generate additional images for validation in: /content/drive/MyDrive/Colab Notebooks/initial/valid/correct_samples\n",
            "generate additional images for train in: /content/drive/MyDrive/Colab Notebooks/initial/train/correct_samples\n",
            "generate additional images for validation in: /content/drive/MyDrive/Colab Notebooks/initial/valid/correct_samples\n",
            "generate additional images for train in: /content/drive/MyDrive/Colab Notebooks/initial/train/correct_samples\n",
            "generate additional images for validation in: /content/drive/MyDrive/Colab Notebooks/initial/valid/correct_samples\n",
            "generate additional images for train in: /content/drive/MyDrive/Colab Notebooks/initial/train/correct_samples\n",
            "generate additional images for validation in: /content/drive/MyDrive/Colab Notebooks/initial/valid/correct_samples\n",
            "generate additional images for train in: /content/drive/MyDrive/Colab Notebooks/initial/train/correct_samples\n",
            "generate additional images for validation in: /content/drive/MyDrive/Colab Notebooks/initial/valid/correct_samples\n",
            "generate additional images for train in: /content/drive/MyDrive/Colab Notebooks/initial/train/correct_samples\n",
            "generate additional images for validation in: /content/drive/MyDrive/Colab Notebooks/initial/valid/correct_samples\n",
            "generate additional images for train in: /content/drive/MyDrive/Colab Notebooks/initial/train/correct_samples\n",
            "generate additional images for validation in: /content/drive/MyDrive/Colab Notebooks/initial/valid/correct_samples\n",
            "generate additional images for train in: /content/drive/MyDrive/Colab Notebooks/initial/train/correct_samples\n",
            "generate additional images for validation in: /content/drive/MyDrive/Colab Notebooks/initial/valid/correct_samples\n",
            "generate additional images for train in: /content/drive/MyDrive/Colab Notebooks/initial/train/correct_samples\n",
            "generate additional images for validation in: /content/drive/MyDrive/Colab Notebooks/initial/valid/correct_samples\n",
            "generate additional images for train in: /content/drive/MyDrive/Colab Notebooks/initial/train/correct_samples\n",
            "generate additional images for validation in: /content/drive/MyDrive/Colab Notebooks/initial/valid/correct_samples\n",
            "generate additional images for train in: /content/drive/MyDrive/Colab Notebooks/initial/train/correct_samples\n",
            "generate additional images for validation in: /content/drive/MyDrive/Colab Notebooks/initial/valid/correct_samples\n",
            "generate additional images for train in: /content/drive/MyDrive/Colab Notebooks/initial/train/correct_samples\n",
            "generate additional images for validation in: /content/drive/MyDrive/Colab Notebooks/initial/valid/correct_samples\n",
            "generate additional images for train in: /content/drive/MyDrive/Colab Notebooks/initial/train/correct_samples\n",
            "generate additional images for validation in: /content/drive/MyDrive/Colab Notebooks/initial/valid/correct_samples\n",
            "generate additional images for train in: /content/drive/MyDrive/Colab Notebooks/initial/train/correct_samples\n",
            "generate additional images for validation in: /content/drive/MyDrive/Colab Notebooks/initial/valid/correct_samples\n",
            "generate additional images for train in: /content/drive/MyDrive/Colab Notebooks/initial/train/correct_samples\n",
            "generate additional images for validation in: /content/drive/MyDrive/Colab Notebooks/initial/valid/correct_samples\n",
            "generate additional images for train in: /content/drive/MyDrive/Colab Notebooks/initial/train/correct_samples\n",
            "generate additional images for validation in: /content/drive/MyDrive/Colab Notebooks/initial/valid/correct_samples\n",
            "generate additional images for train in: /content/drive/MyDrive/Colab Notebooks/initial/train/correct_samples\n",
            "generate additional images for validation in: /content/drive/MyDrive/Colab Notebooks/initial/valid/correct_samples\n",
            "generate additional images for train in: /content/drive/MyDrive/Colab Notebooks/initial/train/correct_samples\n",
            "generate additional images for validation in: /content/drive/MyDrive/Colab Notebooks/initial/valid/correct_samples\n",
            "generate additional images for train in: /content/drive/MyDrive/Colab Notebooks/initial/train/correct_samples\n",
            "generate additional images for validation in: /content/drive/MyDrive/Colab Notebooks/initial/valid/correct_samples\n",
            "generate additional images for train in: /content/drive/MyDrive/Colab Notebooks/initial/train/correct_samples\n",
            "generate additional images for validation in: /content/drive/MyDrive/Colab Notebooks/initial/valid/correct_samples\n",
            "generate additional images for train in: /content/drive/MyDrive/Colab Notebooks/initial/train/correct_samples\n",
            "generate additional images for validation in: /content/drive/MyDrive/Colab Notebooks/initial/valid/correct_samples\n",
            "generate additional images for train in: /content/drive/MyDrive/Colab Notebooks/initial/train/correct_samples\n",
            "generate additional images for validation in: /content/drive/MyDrive/Colab Notebooks/initial/valid/correct_samples\n",
            "generate additional images for train in: /content/drive/MyDrive/Colab Notebooks/initial/train/correct_samples\n",
            "generate additional images for validation in: /content/drive/MyDrive/Colab Notebooks/initial/valid/correct_samples\n",
            "generate additional images for train in: /content/drive/MyDrive/Colab Notebooks/initial/train/correct_samples\n",
            "generate additional images for validation in: /content/drive/MyDrive/Colab Notebooks/initial/valid/correct_samples\n",
            "-------------------------------------------\n",
            "Initial image count: 340 \n",
            "Train image count: 5094 \n",
            "Validation image count: 1564 \n"
          ]
        }
      ],
      "source": [
        "image_list = os.listdir(initial_image_dir) #initial path to images\n",
        "\n",
        "inital_image_count=0\n",
        "for img in image_list:   \n",
        "    img_path= initial_image_dir + '/' + img\n",
        "    if not os.path.isfile(img_path):\n",
        "        continue\n",
        "       \n",
        "    inital_image_count += 1  \n",
        "    \n",
        "    img = load_img(img_path)  # this is a PIL image\n",
        "    x = img_to_array(img)  # this is a Numpy array with shape (3, 150, 150)\n",
        "    x = x.reshape((1,) + x.shape)  # this is a Numpy array with shape (1, 3, 150, 150)\n",
        "    \n",
        "    train_save_to = train_data_dir + '/correct_samples'\n",
        "    if not os.path.exists(train_save_to):\n",
        "        os.makedirs(train_save_to)\n",
        "    \n",
        "    valid_save_to = validation_data_dir + '/correct_samples'\n",
        "    if not os.path.exists(valid_save_to):\n",
        "        os.makedirs(valid_save_to)\n",
        "    \n",
        "    print(\"generate additional images for train in: \" + train_save_to)\n",
        "    \n",
        "    i = 0\n",
        "    for batch in datagen.flow(x, batch_size=5, save_to_dir = train_save_to, save_prefix='sample', save_format='jpeg'):\n",
        "        i += 1\n",
        "        if i > 20:\n",
        "            break  # otherwise the generator would loop indefinitely\n",
        "\n",
        "    train_size=0            \n",
        "    for t in os.listdir(train_save_to):\n",
        "        if os.path.isfile(train_save_to +\"/\" + t):\n",
        "            train_size += 1 \n",
        "            \n",
        "            \n",
        "    print(\"generate additional images for validation in: \" + valid_save_to)\n",
        "    ii=0\n",
        "    for batch in datagen.flow(x, batch_size=1, save_to_dir=valid_save_to, save_prefix='doc', save_format='jpeg'):\n",
        "        ii += 1\n",
        "        if ii > 4:\n",
        "            break  # otherwise the generator would loop indefinitely\n",
        "            \n",
        "    validation_size=0            \n",
        "    for v in os.listdir(valid_save_to):\n",
        "        if os.path.isfile(valid_save_to+\"/\" +v):\n",
        "            validation_size += 1 \n",
        "            \n",
        "print(\"-------------------------------------------\")\n",
        "print(\"Initial image count: {} \".format(inital_image_count))\n",
        "print(\"Train image count: {} \".format(train_size))\n",
        "print(\"Validation image count: {} \".format(validation_size))"
      ]
    },
    {
      "cell_type": "markdown",
      "metadata": {
        "id": "uWWsk0GhKQuB"
      },
      "source": [
        "### Exract data for train and test"
      ]
    },
    {
      "cell_type": "code",
      "execution_count": 66,
      "metadata": {
        "colab": {
          "base_uri": "https://localhost:8080/",
          "height": 0
        },
        "id": "p684NF01KQuB",
        "outputId": "eef4acb3-6016-4655-b8f7-cae23f7f12bc"
      },
      "outputs": [
        {
          "output_type": "stream",
          "name": "stdout",
          "text": [
            "Found 5094 images belonging to 1 classes.\n",
            "Found 1564 images belonging to 1 classes.\n"
          ]
        }
      ],
      "source": [
        "# this is the augmentation configuration we will use for training\n",
        "# only rescaling\n",
        "train_datagen = ImageDataGenerator(rescale=1./255)\n",
        "\n",
        "# this is the augmentation configuration we will use for testing:\n",
        "# only rescaling\n",
        "test_datagen = ImageDataGenerator(rescale=1./255)\n",
        "\n",
        "# this is a generator that will read pictures\n",
        "train_generator = train_datagen.flow_from_directory(\n",
        "        train_data_dir,  # this is the target directory\n",
        "        target_size=(img_width, img_height),  \n",
        "        batch_size=batch_size,\n",
        "        color_mode='rgb', \n",
        "        class_mode=None)  \n",
        "\n",
        "nb_train_samples=train_generator.samples\n",
        "# this is a similar generator, for validation data\n",
        "validation_generator = test_datagen.flow_from_directory(\n",
        "        validation_data_dir,\n",
        "        target_size=(img_width, img_height),\n",
        "        batch_size=batch_size,\n",
        "        color_mode='rgb', \n",
        "        class_mode=None)\n",
        "\n",
        "nb_validation_samples=validation_generator.samples"
      ]
    },
    {
      "cell_type": "markdown",
      "metadata": {
        "id": "hrOOwOv9KQuC"
      },
      "source": [
        "### Build Simplest Model"
      ]
    },
    {
      "cell_type": "code",
      "execution_count": 67,
      "metadata": {
        "colab": {
          "base_uri": "https://localhost:8080/",
          "height": 0
        },
        "id": "xo9jLSY2KQuC",
        "outputId": "878f64ae-5232-44ba-c4d9-66e3d8d22973"
      },
      "outputs": [
        {
          "output_type": "stream",
          "name": "stdout",
          "text": [
            "Model: \"model_1\"\n",
            "_________________________________________________________________\n",
            " Layer (type)                Output Shape              Param #   \n",
            "=================================================================\n",
            " input_2 (InputLayer)        [(None, 72, 72, 3)]       0         \n",
            "                                                                 \n",
            " conv2d_7 (Conv2D)           (None, 72, 72, 16)        448       \n",
            "                                                                 \n",
            " max_pooling2d_3 (MaxPooling  (None, 36, 36, 16)       0         \n",
            " 2D)                                                             \n",
            "                                                                 \n",
            " conv2d_8 (Conv2D)           (None, 36, 36, 8)         1160      \n",
            "                                                                 \n",
            " max_pooling2d_4 (MaxPooling  (None, 18, 18, 8)        0         \n",
            " 2D)                                                             \n",
            "                                                                 \n",
            " conv2d_9 (Conv2D)           (None, 18, 18, 8)         584       \n",
            "                                                                 \n",
            " max_pooling2d_5 (MaxPooling  (None, 9, 9, 8)          0         \n",
            " 2D)                                                             \n",
            "                                                                 \n",
            " conv2d_10 (Conv2D)          (None, 9, 9, 8)           584       \n",
            "                                                                 \n",
            " up_sampling2d_3 (UpSampling  (None, 18, 18, 8)        0         \n",
            " 2D)                                                             \n",
            "                                                                 \n",
            " conv2d_11 (Conv2D)          (None, 18, 18, 8)         584       \n",
            "                                                                 \n",
            " up_sampling2d_4 (UpSampling  (None, 36, 36, 8)        0         \n",
            " 2D)                                                             \n",
            "                                                                 \n",
            " conv2d_12 (Conv2D)          (None, 36, 36, 16)        1168      \n",
            "                                                                 \n",
            " up_sampling2d_5 (UpSampling  (None, 72, 72, 16)       0         \n",
            " 2D)                                                             \n",
            "                                                                 \n",
            " conv2d_13 (Conv2D)          (None, 72, 72, 3)         435       \n",
            "                                                                 \n",
            "=================================================================\n",
            "Total params: 4,963\n",
            "Trainable params: 4,963\n",
            "Non-trainable params: 0\n",
            "_________________________________________________________________\n"
          ]
        }
      ],
      "source": [
        "\n",
        "input_img = Input(batch_shape=(None, img_width, img_width, 3))\n",
        "\n",
        "x = Conv2D(16, (3, 3), activation='relu', padding='same')(input_img)\n",
        "x = MaxPooling2D((2, 2), padding='same')(x)\n",
        "x = Conv2D(8, (3, 3), activation='relu', padding='same')(x)\n",
        "x = MaxPooling2D((2, 2), padding='same')(x)\n",
        "x = Conv2D(8, (3, 3), activation='relu', padding='same')(x)\n",
        "encoded = MaxPooling2D((2, 2), padding='same')(x)\n",
        "\n",
        "# at this point the representation is (4, 4, 8) i.e. 128-dimensional\n",
        "\n",
        "x = Conv2D(8, (3, 3), activation='relu', padding='same')(encoded)\n",
        "x = UpSampling2D((2, 2))(x)\n",
        "x = Conv2D(8, (3, 3), activation='relu', padding='same')(x)\n",
        "x = UpSampling2D((2, 2))(x)\n",
        "x = Conv2D(16, (3, 3), activation='relu', padding='same')(x)\n",
        "x = UpSampling2D((2, 2))(x)\n",
        "decoded = Conv2D(3, (3, 3), activation='softmax', padding='same')(x)\n",
        "\n",
        "autoencoder = Model(input_img, decoded)\n",
        "\n",
        "#autoencoder.compile(optimizer='adadelta', loss='mean_squared_error')\n",
        "#autoencoder.compile(optimizer='Nadam', loss='mean_squared_error')\n",
        "autoencoder.compile(optimizer=RMSprop(), \n",
        "                   loss='mean_squared_error')\n",
        "                   # metrics=['mae', 'accuracy'])\n",
        "\n",
        "autoencoder.summary()"
      ]
    },
    {
      "cell_type": "markdown",
      "metadata": {
        "id": "6ausQpcfKQuC"
      },
      "source": [
        "### Train our network"
      ]
    },
    {
      "cell_type": "code",
      "execution_count": 68,
      "metadata": {
        "colab": {
          "base_uri": "https://localhost:8080/",
          "height": 0
        },
        "id": "Nbt988agKQuC",
        "outputId": "b99560d6-341c-45d1-e52e-7ab6d6a6642d"
      },
      "outputs": [
        {
          "output_type": "stream",
          "name": "stdout",
          "text": [
            "Epoch 1/20\n"
          ]
        },
        {
          "output_type": "stream",
          "name": "stderr",
          "text": [
            "/usr/local/lib/python3.7/dist-packages/ipykernel_launcher.py:6: UserWarning: `Model.fit_generator` is deprecated and will be removed in a future version. Please use `Model.fit`, which supports generators.\n",
            "  \n"
          ]
        },
        {
          "output_type": "stream",
          "name": "stdout",
          "text": [
            "159/159 [==============================] - 15s 73ms/step - loss: 0.1000 - val_loss: 0.0993\n",
            "Epoch 2/20\n",
            "159/159 [==============================] - 12s 72ms/step - loss: 0.0991 - val_loss: 0.0994\n",
            "Epoch 3/20\n",
            "159/159 [==============================] - 11s 72ms/step - loss: 0.0989 - val_loss: 0.0990\n",
            "Epoch 4/20\n",
            "159/159 [==============================] - 12s 74ms/step - loss: 0.0988 - val_loss: 0.0989\n",
            "Epoch 5/20\n",
            "159/159 [==============================] - 12s 76ms/step - loss: 0.0988 - val_loss: 0.0987\n",
            "Epoch 6/20\n",
            "159/159 [==============================] - 11s 72ms/step - loss: 0.0987 - val_loss: 0.0988\n",
            "Epoch 7/20\n",
            "159/159 [==============================] - 12s 74ms/step - loss: 0.0987 - val_loss: 0.0986\n",
            "Epoch 8/20\n",
            "159/159 [==============================] - 11s 72ms/step - loss: 0.0987 - val_loss: 0.0987\n",
            "Epoch 9/20\n",
            "159/159 [==============================] - 11s 72ms/step - loss: 0.0986 - val_loss: 0.0988\n",
            "Epoch 10/20\n",
            "159/159 [==============================] - 11s 71ms/step - loss: 0.0986 - val_loss: 0.0986\n",
            "Epoch 11/20\n",
            "159/159 [==============================] - 11s 70ms/step - loss: 0.0986 - val_loss: 0.0986\n",
            "Epoch 12/20\n",
            "159/159 [==============================] - 11s 71ms/step - loss: 0.0987 - val_loss: 0.0986\n",
            "Epoch 13/20\n",
            "159/159 [==============================] - 11s 71ms/step - loss: 0.0986 - val_loss: 0.0986\n",
            "Epoch 14/20\n",
            "159/159 [==============================] - 12s 73ms/step - loss: 0.0986 - val_loss: 0.0986\n",
            "Epoch 15/20\n",
            "159/159 [==============================] - 11s 73ms/step - loss: 0.0986 - val_loss: 0.0986\n",
            "Epoch 16/20\n",
            "159/159 [==============================] - 11s 72ms/step - loss: 0.0986 - val_loss: 0.0986\n",
            "Epoch 17/20\n",
            "159/159 [==============================] - 12s 74ms/step - loss: 0.0986 - val_loss: 0.0986\n",
            "Epoch 18/20\n",
            "159/159 [==============================] - 11s 72ms/step - loss: 0.0986 - val_loss: 0.0986\n",
            "Epoch 19/20\n",
            "159/159 [==============================] - 11s 71ms/step - loss: 0.0985 - val_loss: 0.0987\n",
            "Epoch 20/20\n",
            "159/159 [==============================] - 11s 72ms/step - loss: 0.0986 - val_loss: 0.0986\n"
          ]
        }
      ],
      "source": [
        "history = autoencoder.fit_generator(\n",
        "        fixed_generator(train_generator),\n",
        "        steps_per_epoch=nb_train_samples // batch_size,\n",
        "        epochs=nb_epoch,\n",
        "        validation_data=fixed_generator(validation_generator),\n",
        "        validation_steps=nb_validation_samples // batch_size)\n",
        "\n"
      ]
    },
    {
      "cell_type": "markdown",
      "metadata": {
        "collapsed": true,
        "id": "P06RAHtdKQuD"
      },
      "source": [
        "### Save weights"
      ]
    },
    {
      "cell_type": "code",
      "execution_count": 69,
      "metadata": {
        "id": "4QkEZkPUKQuD"
      },
      "outputs": [],
      "source": [
        "autoencoder.save_weights('/content/drive/My Drive/Colab Notebooks/logs/anomaly-detection.h5')"
      ]
    },
    {
      "cell_type": "markdown",
      "metadata": {
        "id": "TBr4xpPUKQuD"
      },
      "source": [
        "### Load weights"
      ]
    },
    {
      "cell_type": "code",
      "execution_count": 70,
      "metadata": {
        "id": "EjYgKMfYKQuD"
      },
      "outputs": [],
      "source": [
        "autoencoder.load_weights('/content/drive/My Drive/Colab Notebooks/logs/anomaly-detection.h5');"
      ]
    },
    {
      "cell_type": "markdown",
      "metadata": {
        "collapsed": true,
        "id": "Lq5N4ICZKQuD"
      },
      "source": [
        "### Test encoder and visualize result"
      ]
    },
    {
      "cell_type": "code",
      "execution_count": 71,
      "metadata": {
        "colab": {
          "base_uri": "https://localhost:8080/",
          "height": 246
        },
        "id": "bVP4AiTdKQuD",
        "outputId": "16292034-e318-4bd1-ac62-e2dd825473a0"
      },
      "outputs": [
        {
          "output_type": "display_data",
          "data": {
            "text/plain": [
              "<Figure size 432x288 with 1 Axes>"
            ],
            "image/png": "[encoded data removed]"
          },
          "metadata": {}
        }
      ],
      "source": [
        "img = next(validation_generator)[:7] # Get rendom image\n",
        "\n",
        "dec = autoencoder.predict(img) # Decoded image\n",
        "img = img[0]\n",
        "dec = dec[0]\n",
        "#dec\n",
        "#img\n",
        "img = (img*255).astype('uint8')\n",
        "dec = (dec*255).astype('uint8')\n",
        "plt.imshow(dec)\n",
        "plt.imshow(np.hstack((img, dec)))\n",
        "plt.title('Original and reconstructed images')\n",
        "plt.show()"
      ]
    },
    {
      "cell_type": "markdown",
      "metadata": {
        "collapsed": true,
        "id": "3V41nSf7KQuE"
      },
      "source": [
        "## Visual result"
      ]
    },
    {
      "cell_type": "markdown",
      "metadata": {
        "id": "Tws8wPkXKQuE"
      },
      "source": [
        "Example of using mse"
      ]
    },
    {
      "cell_type": "code",
      "execution_count": 72,
      "metadata": {
        "colab": {
          "base_uri": "https://localhost:8080/",
          "height": 0
        },
        "id": "Jsi8WA4cKQuE",
        "outputId": "e1160da1-7521-4e22-93cb-fccd26ec4890",
        "scrolled": true
      },
      "outputs": [
        {
          "output_type": "stream",
          "name": "stdout",
          "text": [
            "1>2>3>4>5>6>7>8>9>10>11>12>13>14>15>16>17>18>19>20>21>22>23>24>25>26>27>28>29>30>31>32>33>34>35>36>37>38>39>40>41>42>43>44>45>46>47>48>49>50>51>52>53>54>55>56>57>58>59>60>61>62>63>64>65>66>67>68>69>70>71>72>73>74>75>76>77>78>79>80>81>82>83>84>85>86>87>88>89>90>91>92>93>94>95>96>97>98>99>100>101>102>103>104>105>106>107>108>109>110>111>112>113>114>115>116>117>118>119>120>121>122>123>124>125>126>127>128>129>130>131>132>133>134>135>136>137>138>139>140>141>142>143>144>145>146>147>148>149>150>151>152>153>154>155>156>157>158>159>160>161>162>163>164>165>166>167>168>169>170>171>172>173>174>175>176>177>178>179>180>181>182>183>184>185>186>187>188>189>190>191>192>193>194>195>196>197>198>199>200>201>202>203>204>205>206>207>208>209>210>211>212>213>214>215>216>217>218>219>220>221>222>223>224>225>226>227>228>229>230>231>232>233>234>235>236>237>238>239>240>241>242>243>244>245>246>247>248>249>250>251>252>253>254>255>256>257>258>259>260>261>262>263>264>265>266>267>268>269>270>271>272>273>274>275>276>277>278>279>280>281>282>283>284>285>286>287>288>289>290>291>292>293>294>295>296>297>298>299>300>301>302>303>304>305>306>307>308>309>310>311>312>313>314>315>316>317>318>319>320>321>322>323>324>325>326>327>328>329>330>331>332>333>334>335>336>337>338>339>340>341>342>343>344>345>346>347>348>349>350>351>352>353>354>355>356>357>358>359>360>361>362>363>364>365>366>367>368>369>370>371>372>373>374>375>376>377>378>379>380>381>382>383>384>385>386>387>388>389>390>391>392>393>394>395>396>397>398>399>400>401>402>403>404>405>406>407>408>409>410>411>412>413>414>415>416>417>418>419>420>421>422>423>424>425>426>427>428>429>430>431>432>433>434>435>436>437>438>439>440>441>442>443>444>445>446>447>448>449>450>451>452>453>454>455>456>457>458>459>460>461>462>463>464>465>466>467>468>469>470>471>472>473>474>475>476>477>478>479>480>481>482>483>484>485>486>487>488>489>490>491>492>493>494>495>496>497>498>499>500>501>502>503>504>505>506>507>508>509>510>511>512>513>514>515>516>517>518>519>520>521>522>523>524>525>526>527>528>529>530>531>532>533>534>535>536>537>538>539>540>541>542>543>544>545>546>547>548>549>550>551>552>553>554>555>556>557>558>559>560>561>562>563>564>565>566>567>568>569>570>571>572>573>574>575>576>577>578>579>580>581>582>583>584>585>586>587>588>589>590>591>592>593>594>595>596>597>598>599>600>601>602>603>604>605>606>607>608>609>610>611>612>613>614>615>616>617>618>619>620>621>622>623>624>625>626>627>628>629>630>631>632>633>634>635>636>637>638>639>640>641>642>643>644>645>646>647>648>649>650>651>652>653>654>655>656>657>658>659>660>661>662>663>664>665>666>667>668>669>670>671>672>673>674>675>676>677>678>679>680>681>682>683>684>685>686>687>688>689>690>691>692>693>694>695>696>697>698>699>700>701>702>703>704>705>706>707>708>709>710>711>712>713>714>715>716>717>718>719>720>721>722>723>724>725>726>727>728>729>730>731>732>733>734>735>736>737>738>739>740>741>742>743>744>745>746>747>748>749>750>751>752>753>754>755>756>757>758>759>760>761>762>763>764>765>766>767>768>769>770>771>772>773>774>775>776>777>778>779>780>781>782>783>784>785>786>787>788>789>790>791>792>793>794>795>796>797>798>799>800>801>802>803>804>805>806>807>808>809>810>811>812>813>814>815>816>817>818>819>820>821>822>823>824>825>826>827>828>829>830>831>832>833>834>835>836>837>838>839>840>841>842>843>844>845>846>847>848>849>850>851>852>853>854>855>856>857>858>859>860>861>862>863>864>865>866>867>868>869>870>871>872>873>874>875>876>877>878>879>880>881>882>883>884>885>886>887>888>889>890>891>892>893>894>895>896>897>898>899>900>901>902>903>904>905>906>907>908>909>910>911>912>913>914>915>916>917>918>919>920>921>922>923>924>925>926>927>928>929>930>931>932>933>934>935>936>937>938>939>940>941>942>943>944>945>946>947>948>949>950>951>952>953>954>955>956>957>958>959>960>961>962>963>964>965>966>967>968>969>970>971>972>973>974>975>976>977>978>979>980>981>982>983>984>985>986>987>988>989>990>991>992>993>994>995>996>997>998>999>1000>1001>1002>1003>1004>1005>1006>1007>1008>1009>1010>1011>1012>1013>1014>1015>1016>1017>1018>1019>1020>1021>1022>1023>1024>1025>1026>1027>1028>1029>1030>1031>1032>1033>1034>1035>1036>1037>1038>1039>1040>1041>1042>1043>1044>1045>1046>1047>1048>1049>1050>1051>1052>1053>1054>1055>1056>1057>1058>1059>1060>1061>1062>1063>1064>1065>1066>1067>1068>1069>1070>1071>1072>1073>1074>1075>1076>1077>1078>1079>1080>1081>1082>1083>1084>1085>1086>1087>1088>1089>1090>1091>1092>1093>1094>1095>1096>1097>1098>1099>1100>1101>1102>1103>1104>1105>1106>1107>1108>1109>1110>1111>1112>1113>1114>1115>1116>1117>1118>1119>1120>1121>1122>1123>1124>1125>1126>1127>1128>1129>1130>1131>1132>1133>1134>1135>1136>1137>1138>1139>1140>1141>1142>1143>1144>1145>1146>1147>1148>1149>1150>1151>1152>1153>1154>1155>1156>1157>1158>1159>1160>1161>1162>1163>1164>1165>1166>1167>1168>1169>1170>1171>1172>1173>1174>1175>1176>1177>1178>1179>1180>1181>1182>1183>1184>1185>1186>1187>1188>1189>1190>1191>1192>1193>1194>1195>1196>1197>1198>1199>1200>1201>1202>1203>1204>1205>1206>1207>1208>1209>1210>1211>1212>1213>1214>1215>1216>1217>1218>1219>1220>1221>1222>1223>1224>1225>1226>1227>1228>1229>1230>1231>1232>1233>1234>1235>1236>1237>1238>1239>1240>1241>1242>1243>1244>1245>1246>1247>1248>1249>1250>1251>1252>1253>1254>1255>1256>1257>1258>1259>1260>1261>1262>1263>1264>1265>1266>1267>1268>1269>1270>1271>1272>1273>1274>1275>1276>1277>1278>1279>1280>1281>1282>1283>1284>1285>1286>1287>1288>1289>1290>1291>1292>1293>1294>1295>1296>1297>1298>1299>1300>1301>1302>1303>1304>1305>1306>1307>1308>1309>1310>1311>1312>1313>1314>1315>1316>1317>1318>1319>1320>1321>1322>1323>1324>1325>1326>1327>1328>1329>1330>1331>1332>1333>1334>1335>1336>1337>1338>1339>1340>1341>1342>1343>1344>1345>1346>1347>1348>1349>1350>1351>1352>1353>1354>1355>1356>1357>1358>1359>1360>1361>1362>1363>1364>1365>1366>1367>1368>1369>1370>1371>1372>1373>1374>1375>1376>1377>1378>1379>1380>1381>1382>1383>1384>1385>1386>1387>1388>1389>1390>1391>1392>1393>1394>1395>1396>1397>1398>1399>1400>1401>1402>1403>1404>1405>1406>1407>1408>1409>1410>1411>1412>1413>1414>1415>1416>1417>1418>1419>1420>1421>1422>1423>1424>1425>1426>1427>1428>1429>1430>1431>1432>1433>1434>1435>1436>1437>1438>1439>1440>1441>1442>1443>1444>1445>1446>1447>1448>1449>1450>1451>1452>1453>1454>1455>1456>1457>1458>1459>1460>1461>1462>1463>1464>1465>1466>1467>1468>1469>1470>1471>1472>1473>1474>1475>1476>1477>1478>1479>1480>1481>1482>1483>1484>1485>1486>1487>1488>1489>1490>1491>1492>1493>1494>1495>1496>1497>1498>1499>1500>1501>1502>1503>1504>1505>1506>1507>1508>1509>1510>1511>1512>1513>1514>1515>1516>1517>1518>1519>1520>1521>1522>1523>1524>1525>1526>1527>1528>1529>1530>1531>1532>1533>1534>1535>1536>1537>1538>1539>1540>1541>1542>1543>1544>1545>1546>1547>1548>1549>1550>1551>1552>1553>1554>1555>1556>1557>1558>1559>1560>1561>1562>1563>1564>"
          ]
        }
      ],
      "source": [
        "#collect all mse-s\n",
        "all_mses=[]\n",
        "step=1;\n",
        "for validation_image in validation_generator:   \n",
        "    if step>nb_validation_samples:\n",
        "        break;\n",
        "        \n",
        "    print(step, sep=' ', end='>', flush=True)       \n",
        "    predicted_image = autoencoder.predict(validation_image)\n",
        "    mse_value= mse(predicted_image[0], validation_image[0])\n",
        "    all_mses.append(mse_value)\n",
        "    step=step+1\n"
      ]
    },
    {
      "cell_type": "code",
      "execution_count": 73,
      "metadata": {
        "colab": {
          "base_uri": "https://localhost:8080/",
          "height": 300
        },
        "id": "4xiTKTkOKQuE",
        "outputId": "35a427e7-f76b-4b03-d11f-d21bcfb356ea"
      },
      "outputs": [
        {
          "output_type": "execute_result",
          "data": {
            "text/plain": [
              "       reconstruction_error\n",
              "count           1564.000000\n",
              "mean               0.295644\n",
              "std                0.011410\n",
              "min                0.263589\n",
              "25%                0.288202\n",
              "50%                0.295169\n",
              "75%                0.302554\n",
              "max                0.339010"
            ],
            "text/html": [
              "\n",
              "  <div id=\"df-99e7d810-d06f-4999-912f-bf29344fdf06\">\n",
              "    <div class=\"colab-df-container\">\n",
              "      <div>\n",
              "<style scoped>\n",
              "    .dataframe tbody tr th:only-of-type {\n",
              "        vertical-align: middle;\n",
              "    }\n",
              "\n",
              "    .dataframe tbody tr th {\n",
              "        vertical-align: top;\n",
              "    }\n",
              "\n",
              "    .dataframe thead th {\n",
              "        text-align: right;\n",
              "    }\n",
              "</style>\n",
              "<table border=\"1\" class=\"dataframe\">\n",
              "  <thead>\n",
              "    <tr style=\"text-align: right;\">\n",
              "      <th></th>\n",
              "      <th>reconstruction_error</th>\n",
              "    </tr>\n",
              "  </thead>\n",
              "  <tbody>\n",
              "    <tr>\n",
              "      <th>count</th>\n",
              "      <td>1564.000000</td>\n",
              "    </tr>\n",
              "    <tr>\n",
              "      <th>mean</th>\n",
              "      <td>0.295644</td>\n",
              "    </tr>\n",
              "    <tr>\n",
              "      <th>std</th>\n",
              "      <td>0.011410</td>\n",
              "    </tr>\n",
              "    <tr>\n",
              "      <th>min</th>\n",
              "      <td>0.263589</td>\n",
              "    </tr>\n",
              "    <tr>\n",
              "      <th>25%</th>\n",
              "      <td>0.288202</td>\n",
              "    </tr>\n",
              "    <tr>\n",
              "      <th>50%</th>\n",
              "      <td>0.295169</td>\n",
              "    </tr>\n",
              "    <tr>\n",
              "      <th>75%</th>\n",
              "      <td>0.302554</td>\n",
              "    </tr>\n",
              "    <tr>\n",
              "      <th>max</th>\n",
              "      <td>0.339010</td>\n",
              "    </tr>\n",
              "  </tbody>\n",
              "</table>\n",
              "</div>\n",
              "      <button class=\"colab-df-convert\" onclick=\"convertToInteractive('df-99e7d810-d06f-4999-912f-bf29344fdf06')\"\n",
              "              title=\"Convert this dataframe to an interactive table.\"\n",
              "              style=\"display:none;\">\n",
              "        \n",
              "  <svg xmlns=\"http://www.w3.org/2000/svg\" height=\"24px\"viewBox=\"0 0 24 24\"\n",
              "       width=\"24px\">\n",
              "    <path d=\"M0 0h24v24H0V0z\" fill=\"none\"/>\n",
              "    <path d=\"M18.56 5.44l.94 2.06.94-2.06 2.06-.94-2.06-.94-.94-2.06-.94 2.06-2.06.94zm-11 1L8.5 8.5l.94-2.06 2.06-.94-2.06-.94L8.5 2.5l-.94 2.06-2.06.94zm10 10l.94 2.06.94-2.06 2.06-.94-2.06-.94-.94-2.06-.94 2.06-2.06.94z\"/><path d=\"M17.41 7.96l-1.37-1.37c-.4-.4-.92-.59-1.43-.59-.52 0-1.04.2-1.43.59L10.3 9.45l-7.72 7.72c-.78.78-.78 2.05 0 2.83L4 21.41c.39.39.9.59 1.41.59.51 0 1.02-.2 1.41-.59l7.78-7.78 2.81-2.81c.8-.78.8-2.07 0-2.86zM5.41 20L4 18.59l7.72-7.72 1.47 1.35L5.41 20z\"/>\n",
              "  </svg>\n",
              "      </button>\n",
              "      \n",
              "  <style>\n",
              "    .colab-df-container {\n",
              "      display:flex;\n",
              "      flex-wrap:wrap;\n",
              "      gap: 12px;\n",
              "    }\n",
              "\n",
              "    .colab-df-convert {\n",
              "      background-color: #E8F0FE;\n",
              "      border: none;\n",
              "      border-radius: 50%;\n",
              "      cursor: pointer;\n",
              "      display: none;\n",
              "      fill: #1967D2;\n",
              "      height: 32px;\n",
              "      padding: 0 0 0 0;\n",
              "      width: 32px;\n",
              "    }\n",
              "\n",
              "    .colab-df-convert:hover {\n",
              "      background-color: #E2EBFA;\n",
              "      box-shadow: 0px 1px 2px rgba(60, 64, 67, 0.3), 0px 1px 3px 1px rgba(60, 64, 67, 0.15);\n",
              "      fill: #174EA6;\n",
              "    }\n",
              "\n",
              "    [theme=dark] .colab-df-convert {\n",
              "      background-color: #3B4455;\n",
              "      fill: #D2E3FC;\n",
              "    }\n",
              "\n",
              "    [theme=dark] .colab-df-convert:hover {\n",
              "      background-color: #434B5C;\n",
              "      box-shadow: 0px 1px 3px 1px rgba(0, 0, 0, 0.15);\n",
              "      filter: drop-shadow(0px 1px 2px rgba(0, 0, 0, 0.3));\n",
              "      fill: #FFFFFF;\n",
              "    }\n",
              "  </style>\n",
              "\n",
              "      <script>\n",
              "        const buttonEl =\n",
              "          document.querySelector('#df-99e7d810-d06f-4999-912f-bf29344fdf06 button.colab-df-convert');\n",
              "        buttonEl.style.display =\n",
              "          google.colab.kernel.accessAllowed ? 'block' : 'none';\n",
              "\n",
              "        async function convertToInteractive(key) {\n",
              "          const element = document.querySelector('#df-99e7d810-d06f-4999-912f-bf29344fdf06');\n",
              "          const dataTable =\n",
              "            await google.colab.kernel.invokeFunction('convertToInteractive',\n",
              "                                                     [key], {});\n",
              "          if (!dataTable) return;\n",
              "\n",
              "          const docLinkHtml = 'Like what you see? Visit the ' +\n",
              "            '<a target=\"_blank\" href=https://colab.research.google.com/notebooks/data_table.ipynb>data table notebook</a>'\n",
              "            + ' to learn more about interactive tables.';\n",
              "          element.innerHTML = '';\n",
              "          dataTable['output_type'] = 'display_data';\n",
              "          await google.colab.output.renderOutput(dataTable, element);\n",
              "          const docLink = document.createElement('div');\n",
              "          docLink.innerHTML = docLinkHtml;\n",
              "          element.appendChild(docLink);\n",
              "        }\n",
              "      </script>\n",
              "    </div>\n",
              "  </div>\n",
              "  "
            ]
          },
          "metadata": {},
          "execution_count": 73
        }
      ],
      "source": [
        "error_df = pd.DataFrame({'reconstruction_error':all_mses})\n",
        "error_df.describe()"
      ]
    },
    {
      "cell_type": "code",
      "execution_count": 74,
      "metadata": {
        "colab": {
          "base_uri": "https://localhost:8080/",
          "height": 276
        },
        "id": "T7748z9pKQuE",
        "outputId": "9d4aff2e-c0a0-41e7-fef6-fd6126687357"
      },
      "outputs": [
        {
          "output_type": "display_data",
          "data": {
            "text/plain": [
              "<Figure size 432x288 with 1 Axes>"
            ],
            "image/png": "[encoded data removed]"
          },
          "metadata": {}
        }
      ],
      "source": [
        "fig = plt.figure()\n",
        "ax = fig.add_subplot(111)\n",
        "\n",
        "_ = ax.hist(error_df.reconstruction_error.values, bins=5)"
      ]
    },
    {
      "cell_type": "markdown",
      "metadata": {
        "id": "nSHCbkAXKQuF"
      },
      "source": [
        " Selecting th"
      ]
    },
    {
      "cell_type": "code",
      "execution_count": 75,
      "metadata": {
        "id": "CFPzCYURQfuC"
      },
      "outputs": [],
      "source": [
        "error_df.to_excel('/content/drive/My Drive/Colab Notebooks/重建误差0720.xlsx')"
      ]
    },
    {
      "cell_type": "code",
      "execution_count": 76,
      "metadata": {
        "id": "k4MvGhVkKQuF"
      },
      "outputs": [],
      "source": [
        "# base on visulization lets say that everething that more then 0.34 likelihood anomaly\n",
        "# set threshold manually\n",
        "threshold=0.34"
      ]
    },
    {
      "cell_type": "code",
      "source": [
        "IsImageHasAnomaly(autoencoder, '/content/drive/MyDrive/RNA/1/2_63.jpg',threshold)"
      ],
      "metadata": {
        "colab": {
          "base_uri": "https://localhost:8080/",
          "height": 0
        },
        "id": "J_EAqirUXWxC",
        "outputId": "7d83f3b2-4b85-4838-89df-901511c4a7f1"
      },
      "execution_count": 77,
      "outputs": [
        {
          "output_type": "stream",
          "name": "stdout",
          "text": [
            "_mse: 0.2614856086939215\n"
          ]
        },
        {
          "output_type": "execute_result",
          "data": {
            "text/plain": [
              "False"
            ]
          },
          "metadata": {},
          "execution_count": 77
        }
      ]
    },
    {
      "cell_type": "code",
      "source": [
        "IsImageHasAnomaly(autoencoder, '/content/drive/MyDrive/RNA/1/120_135.jpg',threshold)"
      ],
      "metadata": {
        "colab": {
          "base_uri": "https://localhost:8080/",
          "height": 0
        },
        "id": "o-z-Tj7BX1gi",
        "outputId": "f699b6ab-4ec3-4f53-b317-546a0fd13d95"
      },
      "execution_count": 78,
      "outputs": [
        {
          "output_type": "stream",
          "name": "stdout",
          "text": [
            "_mse: 0.23463335634699162\n"
          ]
        },
        {
          "output_type": "execute_result",
          "data": {
            "text/plain": [
              "False"
            ]
          },
          "metadata": {},
          "execution_count": 78
        }
      ]
    },
    {
      "cell_type": "code",
      "source": [
        "IsImageHasAnomaly(autoencoder, '/content/drive/MyDrive/RNA/1/150_195.jpg',threshold)"
      ],
      "metadata": {
        "colab": {
          "base_uri": "https://localhost:8080/",
          "height": 0
        },
        "outputId": "62c71018-dec1-48a9-9d95-4ea85f543504",
        "id": "eqVfMzMNYGp9"
      },
      "execution_count": 79,
      "outputs": [
        {
          "output_type": "stream",
          "name": "stdout",
          "text": [
            "_mse: 0.26741223169312395\n"
          ]
        },
        {
          "output_type": "execute_result",
          "data": {
            "text/plain": [
              "False"
            ]
          },
          "metadata": {},
          "execution_count": 79
        }
      ]
    },
    {
      "cell_type": "code",
      "source": [
        "IsImageHasAnomaly(autoencoder, '/content/drive/MyDrive/RNA/1/160_220.jpg',threshold)"
      ],
      "metadata": {
        "colab": {
          "base_uri": "https://localhost:8080/",
          "height": 0
        },
        "outputId": "d6f630c3-6211-4a10-9730-7442c48a359b",
        "id": "EDLwGWHPYG_Y"
      },
      "execution_count": 80,
      "outputs": [
        {
          "output_type": "stream",
          "name": "stdout",
          "text": [
            "_mse: 0.26541799740156596\n"
          ]
        },
        {
          "output_type": "execute_result",
          "data": {
            "text/plain": [
              "False"
            ]
          },
          "metadata": {},
          "execution_count": 80
        }
      ]
    },
    {
      "cell_type": "code",
      "source": [
        "IsImageHasAnomaly(autoencoder, '/content/drive/MyDrive/RNA/1/170_150.jpg',threshold)"
      ],
      "metadata": {
        "colab": {
          "base_uri": "https://localhost:8080/",
          "height": 0
        },
        "outputId": "a25ebc8c-286b-449b-875b-f25551b5c729",
        "id": "64ziwXm0YHvU"
      },
      "execution_count": 81,
      "outputs": [
        {
          "output_type": "stream",
          "name": "stdout",
          "text": [
            "_mse: 0.2933991223306013\n"
          ]
        },
        {
          "output_type": "execute_result",
          "data": {
            "text/plain": [
              "False"
            ]
          },
          "metadata": {},
          "execution_count": 81
        }
      ]
    },
    {
      "cell_type": "code",
      "source": [
        "IsImageHasAnomaly(autoencoder, '/content/drive/MyDrive/RNA/1/175_210.jpg',threshold)"
      ],
      "metadata": {
        "colab": {
          "base_uri": "https://localhost:8080/",
          "height": 0
        },
        "outputId": "69a809f8-d544-4b1e-e532-c1d46dd89bc5",
        "id": "1rGFiYHMYICN"
      },
      "execution_count": 82,
      "outputs": [
        {
          "output_type": "stream",
          "name": "stdout",
          "text": [
            "_mse: 0.2969858821806013\n"
          ]
        },
        {
          "output_type": "execute_result",
          "data": {
            "text/plain": [
              "False"
            ]
          },
          "metadata": {},
          "execution_count": 82
        }
      ]
    },
    {
      "cell_type": "code",
      "source": [
        "IsImageHasAnomaly(autoencoder, '/content/drive/MyDrive/RNA/1/205_209.jpg',threshold)"
      ],
      "metadata": {
        "colab": {
          "base_uri": "https://localhost:8080/",
          "height": 0
        },
        "outputId": "9f3c3b8b-4c2f-4388-c452-81eacb639e50",
        "id": "HVagUGDYYITi"
      },
      "execution_count": 83,
      "outputs": [
        {
          "output_type": "stream",
          "name": "stdout",
          "text": [
            "_mse: 0.21204609804005492\n"
          ]
        },
        {
          "output_type": "execute_result",
          "data": {
            "text/plain": [
              "False"
            ]
          },
          "metadata": {},
          "execution_count": 83
        }
      ]
    },
    {
      "cell_type": "code",
      "source": [
        "IsImageHasAnomaly(autoencoder, '/content/drive/MyDrive/RNA/1/20_120.jpg',threshold)"
      ],
      "metadata": {
        "colab": {
          "base_uri": "https://localhost:8080/",
          "height": 0
        },
        "outputId": "f7e1f0c5-ee36-45c1-d1af-8f169d9a27c8",
        "id": "-pXJgey-YIe6"
      },
      "execution_count": 84,
      "outputs": [
        {
          "output_type": "stream",
          "name": "stdout",
          "text": [
            "_mse: 0.26141857560705584\n"
          ]
        },
        {
          "output_type": "execute_result",
          "data": {
            "text/plain": [
              "False"
            ]
          },
          "metadata": {},
          "execution_count": 84
        }
      ]
    },
    {
      "cell_type": "code",
      "source": [
        "IsImageHasAnomaly(autoencoder, '/content/drive/MyDrive/RNA/1/235_115.jpg',threshold)"
      ],
      "metadata": {
        "colab": {
          "base_uri": "https://localhost:8080/",
          "height": 0
        },
        "outputId": "f0c6014a-1a57-4ae7-f147-28d1704d784f",
        "id": "kSs2EBb5YIvo"
      },
      "execution_count": 85,
      "outputs": [
        {
          "output_type": "stream",
          "name": "stdout",
          "text": [
            "_mse: 0.23233119985675046\n"
          ]
        },
        {
          "output_type": "execute_result",
          "data": {
            "text/plain": [
              "False"
            ]
          },
          "metadata": {},
          "execution_count": 85
        }
      ]
    },
    {
      "cell_type": "code",
      "source": [
        "IsImageHasAnomaly(autoencoder, '/content/drive/MyDrive/RNA/1/240_85.jpg',threshold)"
      ],
      "metadata": {
        "colab": {
          "base_uri": "https://localhost:8080/",
          "height": 0
        },
        "outputId": "c8a91f26-2845-4ba2-a8d9-450f50ff026d",
        "id": "Vq8R8wBGYI7d"
      },
      "execution_count": 86,
      "outputs": [
        {
          "output_type": "stream",
          "name": "stdout",
          "text": [
            "_mse: 0.2718896187013336\n"
          ]
        },
        {
          "output_type": "execute_result",
          "data": {
            "text/plain": [
              "False"
            ]
          },
          "metadata": {},
          "execution_count": 86
        }
      ]
    },
    {
      "cell_type": "code",
      "source": [
        "IsImageHasAnomaly(autoencoder, '/content/drive/MyDrive/RNA/1/285_75.jpg',threshold)"
      ],
      "metadata": {
        "colab": {
          "base_uri": "https://localhost:8080/",
          "height": 0
        },
        "outputId": "78f097ad-b072-49fc-bef8-5e9c6f21fc77",
        "id": "B6343miycduF"
      },
      "execution_count": 87,
      "outputs": [
        {
          "output_type": "stream",
          "name": "stdout",
          "text": [
            "_mse: 0.28794191318104356\n"
          ]
        },
        {
          "output_type": "execute_result",
          "data": {
            "text/plain": [
              "False"
            ]
          },
          "metadata": {},
          "execution_count": 87
        }
      ]
    },
    {
      "cell_type": "code",
      "source": [
        "IsImageHasAnomaly(autoencoder, '/content/drive/MyDrive/RNA/1/345_135.jpg',threshold)"
      ],
      "metadata": {
        "colab": {
          "base_uri": "https://localhost:8080/",
          "height": 0
        },
        "outputId": "cd00d53d-67f5-4def-c9ef-bba3f32c0e9a",
        "id": "WcNeMVSBcd8r"
      },
      "execution_count": 88,
      "outputs": [
        {
          "output_type": "stream",
          "name": "stdout",
          "text": [
            "_mse: 0.27989777499986984\n"
          ]
        },
        {
          "output_type": "execute_result",
          "data": {
            "text/plain": [
              "False"
            ]
          },
          "metadata": {},
          "execution_count": 88
        }
      ]
    },
    {
      "cell_type": "code",
      "source": [
        "IsImageHasAnomaly(autoencoder, '/content/drive/MyDrive/RNA/1/355_15.jpg',threshold)"
      ],
      "metadata": {
        "colab": {
          "base_uri": "https://localhost:8080/",
          "height": 0
        },
        "outputId": "a464bca8-5cb0-47a2-cdfe-7e6a963ca71f",
        "id": "s4M7pO7oceD0"
      },
      "execution_count": 89,
      "outputs": [
        {
          "output_type": "stream",
          "name": "stdout",
          "text": [
            "_mse: 0.21743859915945807\n"
          ]
        },
        {
          "output_type": "execute_result",
          "data": {
            "text/plain": [
              "False"
            ]
          },
          "metadata": {},
          "execution_count": 89
        }
      ]
    },
    {
      "cell_type": "code",
      "source": [
        "IsImageHasAnomaly(autoencoder, '/content/drive/MyDrive/RNA/1/385_65.jpg',threshold)"
      ],
      "metadata": {
        "colab": {
          "base_uri": "https://localhost:8080/",
          "height": 0
        },
        "outputId": "c3c17d2f-43cf-4b99-98b9-f9a704d6b7ca",
        "id": "y-ehGAUQceIO"
      },
      "execution_count": 90,
      "outputs": [
        {
          "output_type": "stream",
          "name": "stdout",
          "text": [
            "_mse: 0.2657880202994955\n"
          ]
        },
        {
          "output_type": "execute_result",
          "data": {
            "text/plain": [
              "False"
            ]
          },
          "metadata": {},
          "execution_count": 90
        }
      ]
    },
    {
      "cell_type": "code",
      "source": [
        "IsImageHasAnomaly(autoencoder, '/content/drive/MyDrive/RNA/1/38_115.jpg',threshold)"
      ],
      "metadata": {
        "colab": {
          "base_uri": "https://localhost:8080/",
          "height": 0
        },
        "outputId": "6bce9498-12df-4d06-8dc4-e8c89bde437e",
        "id": "EnJb5dUYceMh"
      },
      "execution_count": 91,
      "outputs": [
        {
          "output_type": "stream",
          "name": "stdout",
          "text": [
            "_mse: 0.21875495751827068\n"
          ]
        },
        {
          "output_type": "execute_result",
          "data": {
            "text/plain": [
              "False"
            ]
          },
          "metadata": {},
          "execution_count": 91
        }
      ]
    },
    {
      "cell_type": "code",
      "source": [
        "IsImageHasAnomaly(autoencoder, '/content/drive/MyDrive/RNA/1/398_203.jpg',threshold)"
      ],
      "metadata": {
        "colab": {
          "base_uri": "https://localhost:8080/",
          "height": 0
        },
        "outputId": "d1505a0a-0860-4349-c95a-88ea83842060",
        "id": "4lYxXTP_ceQp"
      },
      "execution_count": 92,
      "outputs": [
        {
          "output_type": "stream",
          "name": "stdout",
          "text": [
            "_mse: 0.18400367360833836\n"
          ]
        },
        {
          "output_type": "execute_result",
          "data": {
            "text/plain": [
              "False"
            ]
          },
          "metadata": {},
          "execution_count": 92
        }
      ]
    },
    {
      "cell_type": "code",
      "source": [
        "IsImageHasAnomaly(autoencoder, '/content/drive/MyDrive/RNA/1/40_170.jpg',threshold)"
      ],
      "metadata": {
        "colab": {
          "base_uri": "https://localhost:8080/",
          "height": 0
        },
        "outputId": "e41b7ea6-c4db-467f-f80b-4d5dd41eef80",
        "id": "6CORymUeceUD"
      },
      "execution_count": 93,
      "outputs": [
        {
          "output_type": "stream",
          "name": "stdout",
          "text": [
            "_mse: 0.2757518555828593\n"
          ]
        },
        {
          "output_type": "execute_result",
          "data": {
            "text/plain": [
              "False"
            ]
          },
          "metadata": {},
          "execution_count": 93
        }
      ]
    },
    {
      "cell_type": "code",
      "source": [
        "IsImageHasAnomaly(autoencoder, '/content/drive/MyDrive/RNA/1/57_99.jpg',threshold)"
      ],
      "metadata": {
        "colab": {
          "base_uri": "https://localhost:8080/",
          "height": 0
        },
        "outputId": "1f356b1b-5189-4145-af95-12d111009304",
        "id": "b2-L1lrtceXr"
      },
      "execution_count": 94,
      "outputs": [
        {
          "output_type": "stream",
          "name": "stdout",
          "text": [
            "_mse: 0.22372671371269084\n"
          ]
        },
        {
          "output_type": "execute_result",
          "data": {
            "text/plain": [
              "False"
            ]
          },
          "metadata": {},
          "execution_count": 94
        }
      ]
    },
    {
      "cell_type": "code",
      "source": [
        "IsImageHasAnomaly(autoencoder, '/content/drive/MyDrive/RNA/1/60_45.jpg',threshold)"
      ],
      "metadata": {
        "colab": {
          "base_uri": "https://localhost:8080/",
          "height": 0
        },
        "outputId": "97774d73-7c97-430a-cc8c-2e552743858c",
        "id": "4dbCFeJ1ceay"
      },
      "execution_count": 95,
      "outputs": [
        {
          "output_type": "stream",
          "name": "stdout",
          "text": [
            "_mse: 0.25475742111695265\n"
          ]
        },
        {
          "output_type": "execute_result",
          "data": {
            "text/plain": [
              "False"
            ]
          },
          "metadata": {},
          "execution_count": 95
        }
      ]
    },
    {
      "cell_type": "code",
      "source": [
        "IsImageHasAnomaly(autoencoder, '/content/drive/MyDrive/RNA/1/80_98.jpg',threshold)"
      ],
      "metadata": {
        "colab": {
          "base_uri": "https://localhost:8080/",
          "height": 0
        },
        "outputId": "da901ffb-e463-410a-bfd7-7c6491b749b2",
        "id": "dQSfMxLsceeG"
      },
      "execution_count": 96,
      "outputs": [
        {
          "output_type": "stream",
          "name": "stdout",
          "text": [
            "_mse: 0.2695937989973401\n"
          ]
        },
        {
          "output_type": "execute_result",
          "data": {
            "text/plain": [
              "False"
            ]
          },
          "metadata": {},
          "execution_count": 96
        }
      ]
    },
    {
      "cell_type": "code",
      "source": [
        "IsImageHasAnomaly(autoencoder, '/content/drive/MyDrive/RNA/1/90_13.jpg',threshold)"
      ],
      "metadata": {
        "colab": {
          "base_uri": "https://localhost:8080/",
          "height": 0
        },
        "outputId": "fd894491-a09f-420c-9770-78fbadf07fbe",
        "id": "-u5E1QMbceh9"
      },
      "execution_count": 98,
      "outputs": [
        {
          "output_type": "stream",
          "name": "stdout",
          "text": [
            "_mse: 0.287188296211562\n"
          ]
        },
        {
          "output_type": "execute_result",
          "data": {
            "text/plain": [
              "False"
            ]
          },
          "metadata": {},
          "execution_count": 98
        }
      ]
    },
    {
      "cell_type": "code",
      "source": [
        "#2\n",
        "IsImageHasAnomaly(autoencoder, '/content/drive/MyDrive/RNA/2/107_83.jpg',threshold)"
      ],
      "metadata": {
        "colab": {
          "base_uri": "https://localhost:8080/",
          "height": 0
        },
        "outputId": "5e29f050-0a0f-4e1e-f8ae-f9d42210d045",
        "id": "NHpXMFWWjPaC"
      },
      "execution_count": 99,
      "outputs": [
        {
          "output_type": "stream",
          "name": "stdout",
          "text": [
            "_mse: 0.2919281022805575\n"
          ]
        },
        {
          "output_type": "execute_result",
          "data": {
            "text/plain": [
              "False"
            ]
          },
          "metadata": {},
          "execution_count": 99
        }
      ]
    },
    {
      "cell_type": "code",
      "source": [
        "IsImageHasAnomaly(autoencoder, '/content/drive/MyDrive/RNA/2/115_40.jpg',threshold)"
      ],
      "metadata": {
        "colab": {
          "base_uri": "https://localhost:8080/",
          "height": 0
        },
        "outputId": "8e4d5d07-a043-4258-899c-30893ae2bf97",
        "id": "gikPnSiijPfO"
      },
      "execution_count": 100,
      "outputs": [
        {
          "output_type": "stream",
          "name": "stdout",
          "text": [
            "_mse: 0.2657049578260842\n"
          ]
        },
        {
          "output_type": "execute_result",
          "data": {
            "text/plain": [
              "False"
            ]
          },
          "metadata": {},
          "execution_count": 100
        }
      ]
    },
    {
      "cell_type": "code",
      "source": [
        "IsImageHasAnomaly(autoencoder, '/content/drive/MyDrive/RNA/2/130_205.jpg',threshold)"
      ],
      "metadata": {
        "colab": {
          "base_uri": "https://localhost:8080/",
          "height": 0
        },
        "outputId": "0db2ab45-afb5-4daf-c81f-c141943bec60",
        "id": "TV0YS17pjPkO"
      },
      "execution_count": 101,
      "outputs": [
        {
          "output_type": "stream",
          "name": "stdout",
          "text": [
            "_mse: 0.23729923867779792\n"
          ]
        },
        {
          "output_type": "execute_result",
          "data": {
            "text/plain": [
              "False"
            ]
          },
          "metadata": {},
          "execution_count": 101
        }
      ]
    },
    {
      "cell_type": "code",
      "source": [
        "IsImageHasAnomaly(autoencoder, '/content/drive/MyDrive/RNA/2/160_18.jpg',threshold)"
      ],
      "metadata": {
        "colab": {
          "base_uri": "https://localhost:8080/",
          "height": 0
        },
        "outputId": "dfda7d07-2f39-4a21-d2ac-277ad81b174c",
        "id": "AiYZuvo3jPpe"
      },
      "execution_count": 102,
      "outputs": [
        {
          "output_type": "stream",
          "name": "stdout",
          "text": [
            "_mse: 0.20554276074579791\n"
          ]
        },
        {
          "output_type": "execute_result",
          "data": {
            "text/plain": [
              "False"
            ]
          },
          "metadata": {},
          "execution_count": 102
        }
      ]
    },
    {
      "cell_type": "code",
      "source": [
        "IsImageHasAnomaly(autoencoder, '/content/drive/MyDrive/RNA/2/165_175.jpg',threshold)"
      ],
      "metadata": {
        "colab": {
          "base_uri": "https://localhost:8080/",
          "height": 0
        },
        "outputId": "0aaf8dff-2550-4e64-952f-75c445c343cc",
        "id": "1rhJcqQ1jPu6"
      },
      "execution_count": 103,
      "outputs": [
        {
          "output_type": "stream",
          "name": "stdout",
          "text": [
            "_mse: 0.2205222859387805\n"
          ]
        },
        {
          "output_type": "execute_result",
          "data": {
            "text/plain": [
              "False"
            ]
          },
          "metadata": {},
          "execution_count": 103
        }
      ]
    },
    {
      "cell_type": "code",
      "source": [
        "IsImageHasAnomaly(autoencoder, '/content/drive/MyDrive/RNA/2/18_122.jpg',threshold)"
      ],
      "metadata": {
        "colab": {
          "base_uri": "https://localhost:8080/",
          "height": 0
        },
        "outputId": "0879c9ac-e423-4b0a-b0de-be66f5dd06ad",
        "id": "A3nyy8jXjP0L"
      },
      "execution_count": 104,
      "outputs": [
        {
          "output_type": "stream",
          "name": "stdout",
          "text": [
            "_mse: 0.2787174409711895\n"
          ]
        },
        {
          "output_type": "execute_result",
          "data": {
            "text/plain": [
              "False"
            ]
          },
          "metadata": {},
          "execution_count": 104
        }
      ]
    },
    {
      "cell_type": "code",
      "source": [
        "IsImageHasAnomaly(autoencoder, '/content/drive/MyDrive/RNA/2/190_140.jpg',threshold)"
      ],
      "metadata": {
        "colab": {
          "base_uri": "https://localhost:8080/",
          "height": 0
        },
        "outputId": "8a3efeb5-1fd7-44c4-bca5-bcde470a0f69",
        "id": "ib6Mo7ZkjP5H"
      },
      "execution_count": 105,
      "outputs": [
        {
          "output_type": "stream",
          "name": "stdout",
          "text": [
            "_mse: 0.30242297184733297\n"
          ]
        },
        {
          "output_type": "execute_result",
          "data": {
            "text/plain": [
              "False"
            ]
          },
          "metadata": {},
          "execution_count": 105
        }
      ]
    },
    {
      "cell_type": "code",
      "source": [
        "IsImageHasAnomaly(autoencoder, '/content/drive/MyDrive/RNA/2/205_105.jpg',threshold)"
      ],
      "metadata": {
        "colab": {
          "base_uri": "https://localhost:8080/",
          "height": 0
        },
        "outputId": "5da2ac8f-debf-423c-a4c3-7d45eeca3cdc",
        "id": "s2CwcQ6vjP87"
      },
      "execution_count": 106,
      "outputs": [
        {
          "output_type": "stream",
          "name": "stdout",
          "text": [
            "_mse: 0.2786728334804041\n"
          ]
        },
        {
          "output_type": "execute_result",
          "data": {
            "text/plain": [
              "False"
            ]
          },
          "metadata": {},
          "execution_count": 106
        }
      ]
    },
    {
      "cell_type": "code",
      "source": [
        "IsImageHasAnomaly(autoencoder, '/content/drive/MyDrive/RNA/2/215_175.jpg',threshold)"
      ],
      "metadata": {
        "colab": {
          "base_uri": "https://localhost:8080/",
          "height": 0
        },
        "outputId": "9af101e7-dff4-4ccc-fd3e-b889f8d79213",
        "id": "mNYjn5SyjQCI"
      },
      "execution_count": 107,
      "outputs": [
        {
          "output_type": "stream",
          "name": "stdout",
          "text": [
            "_mse: 0.31239209070495616\n"
          ]
        },
        {
          "output_type": "execute_result",
          "data": {
            "text/plain": [
              "False"
            ]
          },
          "metadata": {},
          "execution_count": 107
        }
      ]
    },
    {
      "cell_type": "code",
      "source": [
        "IsImageHasAnomaly(autoencoder, '/content/drive/MyDrive/RNA/2/225_205.jpg',threshold)"
      ],
      "metadata": {
        "colab": {
          "base_uri": "https://localhost:8080/",
          "height": 0
        },
        "outputId": "816b6578-8ccf-4e51-aeab-314d9bd4e38f",
        "id": "R5zj-GNmjQGV"
      },
      "execution_count": 108,
      "outputs": [
        {
          "output_type": "stream",
          "name": "stdout",
          "text": [
            "_mse: 0.2482597620951416\n"
          ]
        },
        {
          "output_type": "execute_result",
          "data": {
            "text/plain": [
              "False"
            ]
          },
          "metadata": {},
          "execution_count": 108
        }
      ]
    },
    {
      "cell_type": "code",
      "source": [
        "IsImageHasAnomaly(autoencoder, '/content/drive/MyDrive/RNA/2/265_170.jpg',threshold)"
      ],
      "metadata": {
        "colab": {
          "base_uri": "https://localhost:8080/",
          "height": 0
        },
        "outputId": "0a3f3423-0283-422f-92c5-e24bc173b8aa",
        "id": "wZXRE9a-jQK9"
      },
      "execution_count": 109,
      "outputs": [
        {
          "output_type": "stream",
          "name": "stdout",
          "text": [
            "_mse: 0.25643822590493565\n"
          ]
        },
        {
          "output_type": "execute_result",
          "data": {
            "text/plain": [
              "False"
            ]
          },
          "metadata": {},
          "execution_count": 109
        }
      ]
    },
    {
      "cell_type": "code",
      "source": [
        "IsImageHasAnomaly(autoencoder, '/content/drive/MyDrive/RNA/2/295_170.jpg',threshold)"
      ],
      "metadata": {
        "colab": {
          "base_uri": "https://localhost:8080/",
          "height": 0
        },
        "outputId": "cb8cbae9-2a29-4759-916e-f0ee580e9989",
        "id": "qqGaJYwmjQPC"
      },
      "execution_count": 110,
      "outputs": [
        {
          "output_type": "stream",
          "name": "stdout",
          "text": [
            "_mse: 0.2640957702209211\n"
          ]
        },
        {
          "output_type": "execute_result",
          "data": {
            "text/plain": [
              "False"
            ]
          },
          "metadata": {},
          "execution_count": 110
        }
      ]
    },
    {
      "cell_type": "code",
      "source": [
        "IsImageHasAnomaly(autoencoder, '/content/drive/MyDrive/RNA/2/330_175.jpg',threshold)"
      ],
      "metadata": {
        "colab": {
          "base_uri": "https://localhost:8080/",
          "height": 0
        },
        "outputId": "00abe11f-8bfc-4a98-ab10-4906bc3836b8",
        "id": "H6qEIOBijQTh"
      },
      "execution_count": 111,
      "outputs": [
        {
          "output_type": "stream",
          "name": "stdout",
          "text": [
            "_mse: 0.29155330834539783\n"
          ]
        },
        {
          "output_type": "execute_result",
          "data": {
            "text/plain": [
              "False"
            ]
          },
          "metadata": {},
          "execution_count": 111
        }
      ]
    },
    {
      "cell_type": "code",
      "source": [
        "IsImageHasAnomaly(autoencoder, '/content/drive/MyDrive/RNA/2/330_75.jpg',threshold)"
      ],
      "metadata": {
        "colab": {
          "base_uri": "https://localhost:8080/",
          "height": 0
        },
        "outputId": "ace3ee38-94f1-47df-8d10-537b266e08e2",
        "id": "WEqVx2xMjQYh"
      },
      "execution_count": 112,
      "outputs": [
        {
          "output_type": "stream",
          "name": "stdout",
          "text": [
            "_mse: 0.24952590968739063\n"
          ]
        },
        {
          "output_type": "execute_result",
          "data": {
            "text/plain": [
              "False"
            ]
          },
          "metadata": {},
          "execution_count": 112
        }
      ]
    },
    {
      "cell_type": "code",
      "source": [
        "IsImageHasAnomaly(autoencoder, '/content/drive/MyDrive/RNA/2/355_210.jpg',threshold)"
      ],
      "metadata": {
        "colab": {
          "base_uri": "https://localhost:8080/",
          "height": 0
        },
        "outputId": "8a809eb5-f624-4f17-c3b2-bac6f3f5742e",
        "id": "Yx6JVofqjQdj"
      },
      "execution_count": 113,
      "outputs": [
        {
          "output_type": "stream",
          "name": "stdout",
          "text": [
            "_mse: 0.2732071064238077\n"
          ]
        },
        {
          "output_type": "execute_result",
          "data": {
            "text/plain": [
              "False"
            ]
          },
          "metadata": {},
          "execution_count": 113
        }
      ]
    },
    {
      "cell_type": "code",
      "source": [
        "IsImageHasAnomaly(autoencoder, '/content/drive/MyDrive/RNA/2/355_80.jpg',threshold)"
      ],
      "metadata": {
        "colab": {
          "base_uri": "https://localhost:8080/",
          "height": 0
        },
        "outputId": "a8959979-15fa-4894-8341-afa661ce25fb",
        "id": "RGrcA-UljQiV"
      },
      "execution_count": 115,
      "outputs": [
        {
          "output_type": "stream",
          "name": "stdout",
          "text": [
            "_mse: 0.2500610555332963\n"
          ]
        },
        {
          "output_type": "execute_result",
          "data": {
            "text/plain": [
              "False"
            ]
          },
          "metadata": {},
          "execution_count": 115
        }
      ]
    },
    {
      "cell_type": "code",
      "source": [
        "IsImageHasAnomaly(autoencoder, '/content/drive/MyDrive/RNA/2/365_20.jpg',threshold)"
      ],
      "metadata": {
        "colab": {
          "base_uri": "https://localhost:8080/",
          "height": 0
        },
        "outputId": "906b1a0d-9223-4cfa-97da-7a9b98d1a0ee",
        "id": "bQQlPu_UjQnJ"
      },
      "execution_count": 116,
      "outputs": [
        {
          "output_type": "stream",
          "name": "stdout",
          "text": [
            "_mse: 0.2065490080447052\n"
          ]
        },
        {
          "output_type": "execute_result",
          "data": {
            "text/plain": [
              "False"
            ]
          },
          "metadata": {},
          "execution_count": 116
        }
      ]
    },
    {
      "cell_type": "code",
      "source": [
        "IsImageHasAnomaly(autoencoder, '/content/drive/MyDrive/RNA/2/375_118.jpg',threshold)"
      ],
      "metadata": {
        "colab": {
          "base_uri": "https://localhost:8080/",
          "height": 0
        },
        "outputId": "c0f87ae5-484e-4ce5-f7ed-3ee16629f51a",
        "id": "JJZYTqVyjQq7"
      },
      "execution_count": 117,
      "outputs": [
        {
          "output_type": "stream",
          "name": "stdout",
          "text": [
            "_mse: 0.2231865447612118\n"
          ]
        },
        {
          "output_type": "execute_result",
          "data": {
            "text/plain": [
              "False"
            ]
          },
          "metadata": {},
          "execution_count": 117
        }
      ]
    },
    {
      "cell_type": "code",
      "source": [
        "IsImageHasAnomaly(autoencoder, '/content/drive/MyDrive/RNA/2/380_155.jpg',threshold)"
      ],
      "metadata": {
        "colab": {
          "base_uri": "https://localhost:8080/",
          "height": 0
        },
        "outputId": "0fc5d10b-7bd9-4b31-d848-4a1664192dd5",
        "id": "HXDWP_0DjQux"
      },
      "execution_count": 118,
      "outputs": [
        {
          "output_type": "stream",
          "name": "stdout",
          "text": [
            "_mse: 0.2828506075440842\n"
          ]
        },
        {
          "output_type": "execute_result",
          "data": {
            "text/plain": [
              "False"
            ]
          },
          "metadata": {},
          "execution_count": 118
        }
      ]
    },
    {
      "cell_type": "code",
      "source": [
        "IsImageHasAnomaly(autoencoder, '/content/drive/MyDrive/RNA/2/47_3.jpg',threshold)"
      ],
      "metadata": {
        "colab": {
          "base_uri": "https://localhost:8080/",
          "height": 0
        },
        "outputId": "d256c0ed-f8cd-45b6-dd2c-09be991d9df8",
        "id": "H80A4MPmjQy5"
      },
      "execution_count": 119,
      "outputs": [
        {
          "output_type": "stream",
          "name": "stdout",
          "text": [
            "_mse: 0.2221396919705301\n"
          ]
        },
        {
          "output_type": "execute_result",
          "data": {
            "text/plain": [
              "False"
            ]
          },
          "metadata": {},
          "execution_count": 119
        }
      ]
    },
    {
      "cell_type": "code",
      "source": [
        "IsImageHasAnomaly(autoencoder, '/content/drive/MyDrive/RNA/2/5_13.jpg',threshold)"
      ],
      "metadata": {
        "colab": {
          "base_uri": "https://localhost:8080/",
          "height": 0
        },
        "outputId": "66c48a1f-eda1-4457-a88b-2a0afaae8d9b",
        "id": "MW_X-ge_jQ3W"
      },
      "execution_count": 120,
      "outputs": [
        {
          "output_type": "stream",
          "name": "stdout",
          "text": [
            "_mse: 0.2258382164126757\n"
          ]
        },
        {
          "output_type": "execute_result",
          "data": {
            "text/plain": [
              "False"
            ]
          },
          "metadata": {},
          "execution_count": 120
        }
      ]
    },
    {
      "cell_type": "code",
      "source": [
        "#3\n",
        "IsImageHasAnomaly(autoencoder, '/content/drive/MyDrive/RNA/3/138_60.jpg',threshold)\n",
        "IsImageHasAnomaly(autoencoder, '/content/drive/MyDrive/RNA/3/145_135.jpg',threshold)\n",
        "IsImageHasAnomaly(autoencoder, '/content/drive/MyDrive/RNA/3/225_105.jpg',threshold)\n",
        "IsImageHasAnomaly(autoencoder, '/content/drive/MyDrive/RNA/3/230_140.jpg',threshold)\n",
        "IsImageHasAnomaly(autoencoder, '/content/drive/MyDrive/RNA/3/240_215.jpg',threshold)\n",
        "IsImageHasAnomaly(autoencoder, '/content/drive/MyDrive/RNA/3/25_115.jpg',threshold)\n",
        "IsImageHasAnomaly(autoencoder, '/content/drive/MyDrive/RNA/3/305_40.jpg',threshold)\n",
        "IsImageHasAnomaly(autoencoder, '/content/drive/MyDrive/RNA/3/328_172.jpg',threshold)\n",
        "IsImageHasAnomaly(autoencoder, '/content/drive/MyDrive/RNA/3/343_3.jpg',threshold)\n",
        "IsImageHasAnomaly(autoencoder, '/content/drive/MyDrive/RNA/3/350_135.jpg',threshold)\n",
        "IsImageHasAnomaly(autoencoder, '/content/drive/MyDrive/RNA/3/365_50.jpg',threshold)\n",
        "IsImageHasAnomaly(autoencoder, '/content/drive/MyDrive/RNA/3/385_143.jpg',threshold)\n",
        "IsImageHasAnomaly(autoencoder, '/content/drive/MyDrive/RNA/3/5_56.jpg',threshold)\n",
        "IsImageHasAnomaly(autoencoder, '/content/drive/MyDrive/RNA/3/60_145.jpg',threshold)\n",
        "IsImageHasAnomaly(autoencoder, '/content/drive/MyDrive/RNA/3/80_80.jpg',threshold)\n",
        "IsImageHasAnomaly(autoencoder, '/content/drive/MyDrive/RNA/3/83_82.jpg',threshold)\n"
      ],
      "metadata": {
        "colab": {
          "base_uri": "https://localhost:8080/",
          "height": 0
        },
        "outputId": "83adaacd-697a-4704-bf05-4a86137fffdf",
        "id": "G74rxc1fcelZ"
      },
      "execution_count": 121,
      "outputs": [
        {
          "output_type": "stream",
          "name": "stdout",
          "text": [
            "_mse: 0.2444915860413419\n",
            "_mse: 0.2546556047907013\n",
            "_mse: 0.23618868556120134\n",
            "_mse: 0.2440826903439169\n",
            "_mse: 0.2397854145694513\n",
            "_mse: 0.26446640944856864\n",
            "_mse: 0.25602606363367497\n",
            "_mse: 0.21604415564578208\n",
            "_mse: 0.2200983968335643\n",
            "_mse: 0.2667269078921895\n",
            "_mse: 0.2553804411322022\n",
            "_mse: 0.22113240332414086\n",
            "_mse: 0.22968502557122294\n",
            "_mse: 0.22378780390385766\n",
            "_mse: 0.2392252673326099\n",
            "_mse: 0.24256913610629466\n"
          ]
        },
        {
          "output_type": "execute_result",
          "data": {
            "text/plain": [
              "False"
            ]
          },
          "metadata": {},
          "execution_count": 121
        }
      ]
    },
    {
      "cell_type": "code",
      "source": [
        "#4\n",
        "IsImageHasAnomaly(autoencoder, '/content/drive/MyDrive/RNA/4/10_49.jpg',threshold)\n",
        "IsImageHasAnomaly(autoencoder, '/content/drive/MyDrive/RNA/4/124_212.jpg',threshold)\n",
        "IsImageHasAnomaly(autoencoder, '/content/drive/MyDrive/RNA/4/150_135.jpg',threshold)\n",
        "IsImageHasAnomaly(autoencoder, '/content/drive/MyDrive/RNA/4/208_102.jpg',threshold)\n",
        "IsImageHasAnomaly(autoencoder, '/content/drive/MyDrive/RNA/4/217_185.jpg',threshold)\n",
        "IsImageHasAnomaly(autoencoder, '/content/drive/MyDrive/RNA/4/220_200.jpg',threshold)\n",
        "IsImageHasAnomaly(autoencoder, '/content/drive/MyDrive/RNA/4/230_3.jpg',threshold)\n",
        "IsImageHasAnomaly(autoencoder, '/content/drive/MyDrive/RNA/4/237_93.jpg',threshold)\n",
        "IsImageHasAnomaly(autoencoder, '/content/drive/MyDrive/RNA/4/242_115.jpg',threshold)\n",
        "IsImageHasAnomaly(autoencoder, '/content/drive/MyDrive/RNA/4/318_30.jpg',threshold)\n",
        "IsImageHasAnomaly(autoencoder, '/content/drive/MyDrive/RNA/4/320_28.jpg',threshold)\n",
        "IsImageHasAnomaly(autoencoder, '/content/drive/MyDrive/RNA/4/380_207.jpg',threshold)\n",
        "IsImageHasAnomaly(autoencoder, '/content/drive/MyDrive/RNA/4/385_50.jpg',threshold)\n",
        "IsImageHasAnomaly(autoencoder, '/content/drive/MyDrive/RNA/4/5_98.jpg',threshold)\n",
        "IsImageHasAnomaly(autoencoder, '/content/drive/MyDrive/RNA/4/70_178.jpg',threshold)\n",
        "IsImageHasAnomaly(autoencoder, '/content/drive/MyDrive/RNA/4/86_66.jpg',threshold)"
      ],
      "metadata": {
        "colab": {
          "base_uri": "https://localhost:8080/",
          "height": 0
        },
        "outputId": "0e09d432-c2ec-43ab-c630-78c057901d37",
        "id": "FHzF_GD0ceo6"
      },
      "execution_count": 122,
      "outputs": [
        {
          "output_type": "stream",
          "name": "stdout",
          "text": [
            "_mse: 0.24417824222089068\n",
            "_mse: 0.23188327622781982\n",
            "_mse: 0.29068104903164516\n",
            "_mse: 0.2639061825728797\n",
            "_mse: 0.2723446771233549\n",
            "_mse: 0.24653627450389126\n",
            "_mse: 0.24859910711975833\n",
            "_mse: 0.2947266097191203\n",
            "_mse: 0.24746160352365987\n",
            "_mse: 0.24471009727325232\n",
            "_mse: 0.24598165910709802\n",
            "_mse: 0.24702654179491504\n",
            "_mse: 0.24657510371712635\n",
            "_mse: 0.26799637301496343\n",
            "_mse: 0.22300704736181473\n",
            "_mse: 0.28975423933560485\n"
          ]
        },
        {
          "output_type": "execute_result",
          "data": {
            "text/plain": [
              "False"
            ]
          },
          "metadata": {},
          "execution_count": 122
        }
      ]
    },
    {
      "cell_type": "code",
      "source": [
        "#5\n",
        "IsImageHasAnomaly(autoencoder, '/content/drive/MyDrive/RNA/5/120_140.jpg',threshold)\n",
        "IsImageHasAnomaly(autoencoder, '/content/drive/MyDrive/RNA/5/130_110.jpg',threshold)\n",
        "IsImageHasAnomaly(autoencoder, '/content/drive/MyDrive/RNA/5/140_70.jpg',threshold)\n",
        "IsImageHasAnomaly(autoencoder, '/content/drive/MyDrive/RNA/5/145_210.jpg',threshold)\n",
        "IsImageHasAnomaly(autoencoder, '/content/drive/MyDrive/RNA/5/155_5.jpg',threshold)\n",
        "IsImageHasAnomaly(autoencoder, '/content/drive/MyDrive/RNA/5/15_112.jpg',threshold)\n",
        "IsImageHasAnomaly(autoencoder, '/content/drive/MyDrive/RNA/5/190_195.jpg',threshold)\n",
        "IsImageHasAnomaly(autoencoder, '/content/drive/MyDrive/RNA/5/222_68.jpg',threshold)\n",
        "IsImageHasAnomaly(autoencoder, '/content/drive/MyDrive/RNA/5/235_35.jpg',threshold)\n",
        "IsImageHasAnomaly(autoencoder, '/content/drive/MyDrive/RNA/5/250_175.jpg',threshold)\n",
        "IsImageHasAnomaly(autoencoder, '/content/drive/MyDrive/RNA/5/300_135.jpg',threshold)\n",
        "IsImageHasAnomaly(autoencoder, '/content/drive/MyDrive/RNA/5/30_187.jpg',threshold)\n",
        "IsImageHasAnomaly(autoencoder, '/content/drive/MyDrive/RNA/5/60_165.jpg',threshold)\n",
        "IsImageHasAnomaly(autoencoder, '/content/drive/MyDrive/RNA/5/30_30.jpg',threshold)\n",
        "IsImageHasAnomaly(autoencoder, '/content/drive/MyDrive/RNA/5/75_130.jpg',threshold)\n",
        "IsImageHasAnomaly(autoencoder, '/content/drive/MyDrive/RNA/5/85_45.jpg',threshold)\n",
        "IsImageHasAnomaly(autoencoder, '/content/drive/MyDrive/RNA/5/90_170.jpg',threshold)"
      ],
      "metadata": {
        "colab": {
          "base_uri": "https://localhost:8080/",
          "height": 0
        },
        "outputId": "bd5375dc-d7ac-47fb-bdd9-437ec9973f5e",
        "id": "e7KId99ocesf"
      },
      "execution_count": 123,
      "outputs": [
        {
          "output_type": "stream",
          "name": "stdout",
          "text": [
            "_mse: 0.2577788122580848\n",
            "_mse: 0.24838347158318422\n",
            "_mse: 0.27717768527385517\n",
            "_mse: 0.20795925453851125\n",
            "_mse: 0.2111006317430474\n",
            "_mse: 0.22610330027838504\n",
            "_mse: 0.20815683545084832\n",
            "_mse: 0.20643366643948324\n",
            "_mse: 0.21275202491070802\n",
            "_mse: 0.22715442846435008\n",
            "_mse: 0.2836951559760225\n",
            "_mse: 0.24269268887012937\n",
            "_mse: 0.2185973715833349\n",
            "_mse: 0.21054341219455586\n",
            "_mse: 0.22807459314742037\n",
            "_mse: 0.21524585856988546\n",
            "_mse: 0.2713425138950839\n"
          ]
        },
        {
          "output_type": "execute_result",
          "data": {
            "text/plain": [
              "False"
            ]
          },
          "metadata": {},
          "execution_count": 123
        }
      ]
    },
    {
      "cell_type": "code",
      "source": [
        "IsImageHasAnomaly(autoencoder, '/content/drive/MyDrive/Colab Notebooks/52_53-new.jpg',threshold)"
      ],
      "metadata": {
        "colab": {
          "base_uri": "https://localhost:8080/",
          "height": 0
        },
        "outputId": "eb2abb38-5656-4868-e0a3-bf6697856109",
        "id": "BBvHomagcewW"
      },
      "execution_count": 124,
      "outputs": [
        {
          "output_type": "stream",
          "name": "stdout",
          "text": [
            "_mse: 0.22921941926279532\n"
          ]
        },
        {
          "output_type": "execute_result",
          "data": {
            "text/plain": [
              "False"
            ]
          },
          "metadata": {},
          "execution_count": 124
        }
      ]
    },
    {
      "cell_type": "code",
      "source": [
        "IsImageHasAnomaly(autoencoder, '/content/drive/MyDrive/Colab Notebooks/53_50-new.jpg',threshold)"
      ],
      "metadata": {
        "colab": {
          "base_uri": "https://localhost:8080/",
          "height": 0
        },
        "outputId": "72be5a31-826d-46db-d5da-c981c9dff184",
        "id": "9mpYHIhmce0D"
      },
      "execution_count": 125,
      "outputs": [
        {
          "output_type": "stream",
          "name": "stdout",
          "text": [
            "_mse: 0.1717883703173239\n"
          ]
        },
        {
          "output_type": "execute_result",
          "data": {
            "text/plain": [
              "False"
            ]
          },
          "metadata": {},
          "execution_count": 125
        }
      ]
    },
    {
      "cell_type": "code",
      "source": [
        "IsImageHasAnomaly(autoencoder, '/content/drive/MyDrive/Colab Notebooks/70_75-new.jpg',threshold)"
      ],
      "metadata": {
        "colab": {
          "base_uri": "https://localhost:8080/",
          "height": 0
        },
        "outputId": "c6bf5fc4-ede0-4e18-8891-510c60644fbe",
        "id": "XJ2W588ace3f"
      },
      "execution_count": 126,
      "outputs": [
        {
          "output_type": "stream",
          "name": "stdout",
          "text": [
            "_mse: 0.26394016654579777\n"
          ]
        },
        {
          "output_type": "execute_result",
          "data": {
            "text/plain": [
              "False"
            ]
          },
          "metadata": {},
          "execution_count": 126
        }
      ]
    },
    {
      "cell_type": "code",
      "source": [
        "IsImageHasAnomaly(autoencoder, '/content/drive/MyDrive/Colab Notebooks/45_45.jpg',threshold)"
      ],
      "metadata": {
        "colab": {
          "base_uri": "https://localhost:8080/",
          "height": 0
        },
        "outputId": "9abe973f-de3d-4b1f-84af-69ac8a1a7f2e",
        "id": "4bR-hkW7ce7e"
      },
      "execution_count": 127,
      "outputs": [
        {
          "output_type": "stream",
          "name": "stdout",
          "text": [
            "_mse: 0.2664131769876593\n"
          ]
        },
        {
          "output_type": "execute_result",
          "data": {
            "text/plain": [
              "False"
            ]
          },
          "metadata": {},
          "execution_count": 127
        }
      ]
    },
    {
      "cell_type": "code",
      "source": [
        "IsImageHasAnomaly(autoencoder, '/content/drive/MyDrive/RNA/1/240_85.jpg',threshold)"
      ],
      "metadata": {
        "colab": {
          "base_uri": "https://localhost:8080/",
          "height": 0
        },
        "outputId": "44e6e339-5931-4e44-fbcb-a8eecb8fe89d",
        "id": "VAyKXKzjce_d"
      },
      "execution_count": 128,
      "outputs": [
        {
          "output_type": "stream",
          "name": "stdout",
          "text": [
            "_mse: 0.2718896187013336\n"
          ]
        },
        {
          "output_type": "execute_result",
          "data": {
            "text/plain": [
              "False"
            ]
          },
          "metadata": {},
          "execution_count": 128
        }
      ]
    },
    {
      "cell_type": "code",
      "source": [
        "IsImageHasAnomaly(autoencoder, '/content/drive/MyDrive/RNA/1/240_85.jpg',threshold)"
      ],
      "metadata": {
        "colab": {
          "base_uri": "https://localhost:8080/",
          "height": 0
        },
        "outputId": "2dae79ef-5ed2-4028-8219-c84370faf37a",
        "id": "vNvxAJk3cfDG"
      },
      "execution_count": 129,
      "outputs": [
        {
          "output_type": "stream",
          "name": "stdout",
          "text": [
            "_mse: 0.2718896187013336\n"
          ]
        },
        {
          "output_type": "execute_result",
          "data": {
            "text/plain": [
              "False"
            ]
          },
          "metadata": {},
          "execution_count": 129
        }
      ]
    },
    {
      "cell_type": "code",
      "source": [
        "IsImageHasAnomaly(autoencoder, '/content/drive/MyDrive/RNA/1/240_85.jpg',threshold)"
      ],
      "metadata": {
        "colab": {
          "base_uri": "https://localhost:8080/",
          "height": 0
        },
        "outputId": "ac7d9d2c-afdc-445e-c620-9fd3653f2a1d",
        "id": "St2qkuYacfGz"
      },
      "execution_count": 130,
      "outputs": [
        {
          "output_type": "stream",
          "name": "stdout",
          "text": [
            "_mse: 0.2718896187013336\n"
          ]
        },
        {
          "output_type": "execute_result",
          "data": {
            "text/plain": [
              "False"
            ]
          },
          "metadata": {},
          "execution_count": 130
        }
      ]
    },
    {
      "cell_type": "code",
      "source": [
        "IsImageHasAnomaly(autoencoder, '/content/drive/MyDrive/RNA/1/240_85.jpg',threshold)"
      ],
      "metadata": {
        "colab": {
          "base_uri": "https://localhost:8080/",
          "height": 0
        },
        "outputId": "b78bcff3-924c-40a5-cc5e-492fd1105135",
        "id": "rWI--kuLcfKu"
      },
      "execution_count": 131,
      "outputs": [
        {
          "output_type": "stream",
          "name": "stdout",
          "text": [
            "_mse: 0.2718896187013336\n"
          ]
        },
        {
          "output_type": "execute_result",
          "data": {
            "text/plain": [
              "False"
            ]
          },
          "metadata": {},
          "execution_count": 131
        }
      ]
    },
    {
      "cell_type": "code",
      "source": [
        "IsImageHasAnomaly(autoencoder, '/content/drive/MyDrive/RNA/1/240_85.jpg',threshold)"
      ],
      "metadata": {
        "colab": {
          "base_uri": "https://localhost:8080/",
          "height": 0
        },
        "outputId": "2396b21b-5ddf-4203-c873-b4aac5aad963",
        "id": "9gAe_185cfOl"
      },
      "execution_count": 132,
      "outputs": [
        {
          "output_type": "stream",
          "name": "stdout",
          "text": [
            "_mse: 0.2718896187013336\n"
          ]
        },
        {
          "output_type": "execute_result",
          "data": {
            "text/plain": [
              "False"
            ]
          },
          "metadata": {},
          "execution_count": 132
        }
      ]
    },
    {
      "cell_type": "code",
      "source": [
        "IsImageHasAnomaly(autoencoder, '/content/drive/MyDrive/RNA/1/240_85.jpg',threshold)"
      ],
      "metadata": {
        "colab": {
          "base_uri": "https://localhost:8080/",
          "height": 0
        },
        "outputId": "ae5ddbca-bb86-4024-fe34-be9f8795fae9",
        "id": "54KmK7WCcfSK"
      },
      "execution_count": 133,
      "outputs": [
        {
          "output_type": "stream",
          "name": "stdout",
          "text": [
            "_mse: 0.2718896187013336\n"
          ]
        },
        {
          "output_type": "execute_result",
          "data": {
            "text/plain": [
              "False"
            ]
          },
          "metadata": {},
          "execution_count": 133
        }
      ]
    },
    {
      "cell_type": "code",
      "source": [
        "IsImageHasAnomaly(autoencoder, '/content/drive/MyDrive/RNA/1/240_85.jpg',threshold)"
      ],
      "metadata": {
        "colab": {
          "base_uri": "https://localhost:8080/",
          "height": 0
        },
        "outputId": "f264bf0e-0ce3-4034-9644-18f003c652ce",
        "id": "wpmBmHqKcfV9"
      },
      "execution_count": 134,
      "outputs": [
        {
          "output_type": "stream",
          "name": "stdout",
          "text": [
            "_mse: 0.2718896187013336\n"
          ]
        },
        {
          "output_type": "execute_result",
          "data": {
            "text/plain": [
              "False"
            ]
          },
          "metadata": {},
          "execution_count": 134
        }
      ]
    },
    {
      "cell_type": "code",
      "source": [
        "IsImageHasAnomaly(autoencoder, '/content/drive/MyDrive/RNA/1/240_85.jpg',threshold)"
      ],
      "metadata": {
        "colab": {
          "base_uri": "https://localhost:8080/",
          "height": 0
        },
        "outputId": "59f569c0-bd94-4bcd-bbf9-aebbd465b72d",
        "id": "X_q8Z6ZHcfZt"
      },
      "execution_count": 135,
      "outputs": [
        {
          "output_type": "stream",
          "name": "stdout",
          "text": [
            "_mse: 0.2718896187013336\n"
          ]
        },
        {
          "output_type": "execute_result",
          "data": {
            "text/plain": [
              "False"
            ]
          },
          "metadata": {},
          "execution_count": 135
        }
      ]
    },
    {
      "cell_type": "code",
      "source": [
        "IsImageHasAnomaly(autoencoder, '/content/drive/MyDrive/RNA/1/240_85.jpg',threshold)"
      ],
      "metadata": {
        "colab": {
          "base_uri": "https://localhost:8080/",
          "height": 0
        },
        "outputId": "53391207-1583-492a-9741-11d19f9c8b4e",
        "id": "PDwu0hfTcfdo"
      },
      "execution_count": 136,
      "outputs": [
        {
          "output_type": "stream",
          "name": "stdout",
          "text": [
            "_mse: 0.2718896187013336\n"
          ]
        },
        {
          "output_type": "execute_result",
          "data": {
            "text/plain": [
              "False"
            ]
          },
          "metadata": {},
          "execution_count": 136
        }
      ]
    },
    {
      "cell_type": "code",
      "source": [
        "IsImageHasAnomaly(autoencoder, '/content/drive/MyDrive/RNA/1/240_85.jpg',threshold)"
      ],
      "metadata": {
        "colab": {
          "base_uri": "https://localhost:8080/",
          "height": 0
        },
        "outputId": "ef163903-74d9-4733-cd3c-56f1ab6e6808",
        "id": "aq_AronZcfhj"
      },
      "execution_count": 137,
      "outputs": [
        {
          "output_type": "stream",
          "name": "stdout",
          "text": [
            "_mse: 0.2718896187013336\n"
          ]
        },
        {
          "output_type": "execute_result",
          "data": {
            "text/plain": [
              "False"
            ]
          },
          "metadata": {},
          "execution_count": 137
        }
      ]
    },
    {
      "cell_type": "code",
      "source": [
        "IsImageHasAnomaly(autoencoder, '/content/drive/MyDrive/RNA/1/240_85.jpg',threshold)"
      ],
      "metadata": {
        "colab": {
          "base_uri": "https://localhost:8080/",
          "height": 0
        },
        "outputId": "5964e2a9-b0e1-4e1c-d839-9bd74519fb3f",
        "id": "s-jMWcyBcflX"
      },
      "execution_count": 138,
      "outputs": [
        {
          "output_type": "stream",
          "name": "stdout",
          "text": [
            "_mse: 0.2718896187013336\n"
          ]
        },
        {
          "output_type": "execute_result",
          "data": {
            "text/plain": [
              "False"
            ]
          },
          "metadata": {},
          "execution_count": 138
        }
      ]
    },
    {
      "cell_type": "code",
      "source": [
        "IsImageHasAnomaly(autoencoder, '/content/drive/MyDrive/RNA/1/240_85.jpg',threshold)"
      ],
      "metadata": {
        "colab": {
          "base_uri": "https://localhost:8080/",
          "height": 0
        },
        "outputId": "c3100f12-5bf0-4ea9-9ae6-7be020d254cd",
        "id": "-0B5VlLIcfpU"
      },
      "execution_count": 139,
      "outputs": [
        {
          "output_type": "stream",
          "name": "stdout",
          "text": [
            "_mse: 0.2718896187013336\n"
          ]
        },
        {
          "output_type": "execute_result",
          "data": {
            "text/plain": [
              "False"
            ]
          },
          "metadata": {},
          "execution_count": 139
        }
      ]
    },
    {
      "cell_type": "code",
      "source": [
        "IsImageHasAnomaly(autoencoder, '/content/drive/MyDrive/RNA/1/240_85.jpg',threshold)"
      ],
      "metadata": {
        "colab": {
          "base_uri": "https://localhost:8080/",
          "height": 0
        },
        "outputId": "0bed2822-4b1a-4496-cd1a-5020beb65454",
        "id": "fTTPcXw_cftF"
      },
      "execution_count": 140,
      "outputs": [
        {
          "output_type": "stream",
          "name": "stdout",
          "text": [
            "_mse: 0.2718896187013336\n"
          ]
        },
        {
          "output_type": "execute_result",
          "data": {
            "text/plain": [
              "False"
            ]
          },
          "metadata": {},
          "execution_count": 140
        }
      ]
    },
    {
      "cell_type": "code",
      "source": [
        "IsImageHasAnomaly(autoencoder, '/content/drive/MyDrive/RNA/1/240_85.jpg',threshold)"
      ],
      "metadata": {
        "colab": {
          "base_uri": "https://localhost:8080/",
          "height": 0
        },
        "outputId": "d801b998-a290-409b-a742-d216d90dadd3",
        "id": "22U3NE6hcfxA"
      },
      "execution_count": 141,
      "outputs": [
        {
          "output_type": "stream",
          "name": "stdout",
          "text": [
            "_mse: 0.2718896187013336\n"
          ]
        },
        {
          "output_type": "execute_result",
          "data": {
            "text/plain": [
              "False"
            ]
          },
          "metadata": {},
          "execution_count": 141
        }
      ]
    },
    {
      "cell_type": "code",
      "source": [
        "IsImageHasAnomaly(autoencoder, '/content/drive/MyDrive/RNA/1/240_85.jpg',threshold)"
      ],
      "metadata": {
        "colab": {
          "base_uri": "https://localhost:8080/",
          "height": 0
        },
        "outputId": "4cacc70c-1066-4d00-8444-fb5127350ebc",
        "id": "BVIy0rOmcf1L"
      },
      "execution_count": 142,
      "outputs": [
        {
          "output_type": "stream",
          "name": "stdout",
          "text": [
            "_mse: 0.2718896187013336\n"
          ]
        },
        {
          "output_type": "execute_result",
          "data": {
            "text/plain": [
              "False"
            ]
          },
          "metadata": {},
          "execution_count": 142
        }
      ]
    },
    {
      "cell_type": "code",
      "source": [
        "IsImageHasAnomaly(autoencoder, '/content/drive/MyDrive/RNA/1/240_85.jpg',threshold)"
      ],
      "metadata": {
        "colab": {
          "base_uri": "https://localhost:8080/",
          "height": 0
        },
        "outputId": "e473edcd-5179-4b15-8909-25a496609c1e",
        "id": "QMly0WPNcf5R"
      },
      "execution_count": 143,
      "outputs": [
        {
          "output_type": "stream",
          "name": "stdout",
          "text": [
            "_mse: 0.2718896187013336\n"
          ]
        },
        {
          "output_type": "execute_result",
          "data": {
            "text/plain": [
              "False"
            ]
          },
          "metadata": {},
          "execution_count": 143
        }
      ]
    },
    {
      "cell_type": "code",
      "source": [
        "IsImageHasAnomaly(autoencoder, '/content/drive/MyDrive/RNA/1/240_85.jpg',threshold)"
      ],
      "metadata": {
        "colab": {
          "base_uri": "https://localhost:8080/",
          "height": 0
        },
        "outputId": "11f554db-2974-43bc-a754-f3dd6f6fd495",
        "id": "ekOHaKg1cf9Q"
      },
      "execution_count": 144,
      "outputs": [
        {
          "output_type": "stream",
          "name": "stdout",
          "text": [
            "_mse: 0.2718896187013336\n"
          ]
        },
        {
          "output_type": "execute_result",
          "data": {
            "text/plain": [
              "False"
            ]
          },
          "metadata": {},
          "execution_count": 144
        }
      ]
    },
    {
      "cell_type": "code",
      "source": [
        "IsImageHasAnomaly(autoencoder, '/content/drive/MyDrive/RNA/1/240_85.jpg',threshold)"
      ],
      "metadata": {
        "colab": {
          "base_uri": "https://localhost:8080/",
          "height": 0
        },
        "outputId": "ed849797-4265-49e8-a3d4-3cf4e36b1fe5",
        "id": "RzzjZOCocgBO"
      },
      "execution_count": 145,
      "outputs": [
        {
          "output_type": "stream",
          "name": "stdout",
          "text": [
            "_mse: 0.2718896187013336\n"
          ]
        },
        {
          "output_type": "execute_result",
          "data": {
            "text/plain": [
              "False"
            ]
          },
          "metadata": {},
          "execution_count": 145
        }
      ]
    },
    {
      "cell_type": "code",
      "source": [
        "IsImageHasAnomaly(autoencoder, '/content/drive/MyDrive/RNA/1/240_85.jpg',threshold)"
      ],
      "metadata": {
        "colab": {
          "base_uri": "https://localhost:8080/",
          "height": 0
        },
        "outputId": "ea83382e-493a-4db2-beed-060db472654d",
        "id": "mxkmrCmqcgEq"
      },
      "execution_count": 146,
      "outputs": [
        {
          "output_type": "stream",
          "name": "stdout",
          "text": [
            "_mse: 0.2718896187013336\n"
          ]
        },
        {
          "output_type": "execute_result",
          "data": {
            "text/plain": [
              "False"
            ]
          },
          "metadata": {},
          "execution_count": 146
        }
      ]
    },
    {
      "cell_type": "code",
      "source": [
        "IsImageHasAnomaly(autoencoder, '/content/drive/MyDrive/RNA/1/240_85.jpg',threshold)"
      ],
      "metadata": {
        "colab": {
          "base_uri": "https://localhost:8080/",
          "height": 0
        },
        "outputId": "591ddc05-7c55-4119-8ec9-a520976a1ea3",
        "id": "ohyAAF-dcgIU"
      },
      "execution_count": 147,
      "outputs": [
        {
          "output_type": "stream",
          "name": "stdout",
          "text": [
            "_mse: 0.2718896187013336\n"
          ]
        },
        {
          "output_type": "execute_result",
          "data": {
            "text/plain": [
              "False"
            ]
          },
          "metadata": {},
          "execution_count": 147
        }
      ]
    },
    {
      "cell_type": "code",
      "source": [
        "IsImageHasAnomaly(autoencoder, '/content/drive/MyDrive/RNA/1/240_85.jpg',threshold)"
      ],
      "metadata": {
        "colab": {
          "base_uri": "https://localhost:8080/",
          "height": 0
        },
        "outputId": "dc504cb4-8393-46ec-8176-4fd090f8a24b",
        "id": "EOmZxjxqcgMY"
      },
      "execution_count": 148,
      "outputs": [
        {
          "output_type": "stream",
          "name": "stdout",
          "text": [
            "_mse: 0.2718896187013336\n"
          ]
        },
        {
          "output_type": "execute_result",
          "data": {
            "text/plain": [
              "False"
            ]
          },
          "metadata": {},
          "execution_count": 148
        }
      ]
    },
    {
      "cell_type": "code",
      "source": [
        "IsImageHasAnomaly(autoencoder, '/content/drive/MyDrive/RNA/1/240_85.jpg',threshold)"
      ],
      "metadata": {
        "colab": {
          "base_uri": "https://localhost:8080/",
          "height": 0
        },
        "outputId": "92bf83bd-40b8-47e7-970c-cfdcced6fd3d",
        "id": "RxwiWhaIcgRB"
      },
      "execution_count": 149,
      "outputs": [
        {
          "output_type": "stream",
          "name": "stdout",
          "text": [
            "_mse: 0.2718896187013336\n"
          ]
        },
        {
          "output_type": "execute_result",
          "data": {
            "text/plain": [
              "False"
            ]
          },
          "metadata": {},
          "execution_count": 149
        }
      ]
    },
    {
      "cell_type": "code",
      "source": [
        "IsImageHasAnomaly(autoencoder, '/content/drive/MyDrive/RNA/1/240_85.jpg',threshold)"
      ],
      "metadata": {
        "colab": {
          "base_uri": "https://localhost:8080/",
          "height": 0
        },
        "outputId": "87b6edd0-2a33-4483-b605-d1158f1360fb",
        "id": "nOlSb-KjcgZm"
      },
      "execution_count": 150,
      "outputs": [
        {
          "output_type": "stream",
          "name": "stdout",
          "text": [
            "_mse: 0.2718896187013336\n"
          ]
        },
        {
          "output_type": "execute_result",
          "data": {
            "text/plain": [
              "False"
            ]
          },
          "metadata": {},
          "execution_count": 150
        }
      ]
    },
    {
      "cell_type": "code",
      "source": [
        "IsImageHasAnomaly(autoencoder, '/content/drive/MyDrive/RNA/1/240_85.jpg',threshold)"
      ],
      "metadata": {
        "colab": {
          "base_uri": "https://localhost:8080/",
          "height": 0
        },
        "outputId": "2b1181ca-a60c-4e09-e033-d301832f98d4",
        "id": "zsN1buPmcgeU"
      },
      "execution_count": 151,
      "outputs": [
        {
          "output_type": "stream",
          "name": "stdout",
          "text": [
            "_mse: 0.2718896187013336\n"
          ]
        },
        {
          "output_type": "execute_result",
          "data": {
            "text/plain": [
              "False"
            ]
          },
          "metadata": {},
          "execution_count": 151
        }
      ]
    },
    {
      "cell_type": "code",
      "source": [
        "IsImageHasAnomaly(autoencoder, '/content/drive/MyDrive/RNA/1/240_85.jpg',threshold)"
      ],
      "metadata": {
        "colab": {
          "base_uri": "https://localhost:8080/",
          "height": 0
        },
        "outputId": "c6ea8e80-c7d1-42b7-c6d4-8dd611068282",
        "id": "SIg0hBercgit"
      },
      "execution_count": 152,
      "outputs": [
        {
          "output_type": "stream",
          "name": "stdout",
          "text": [
            "_mse: 0.2718896187013336\n"
          ]
        },
        {
          "output_type": "execute_result",
          "data": {
            "text/plain": [
              "False"
            ]
          },
          "metadata": {},
          "execution_count": 152
        }
      ]
    },
    {
      "cell_type": "code",
      "source": [
        "IsImageHasAnomaly(autoencoder, '/content/drive/MyDrive/RNA/1/240_85.jpg',threshold)"
      ],
      "metadata": {
        "colab": {
          "base_uri": "https://localhost:8080/",
          "height": 0
        },
        "outputId": "bed51193-172e-43c8-9ae3-de2903b514c2",
        "id": "lsUe3ZZlcgnE"
      },
      "execution_count": 153,
      "outputs": [
        {
          "output_type": "stream",
          "name": "stdout",
          "text": [
            "_mse: 0.2718896187013336\n"
          ]
        },
        {
          "output_type": "execute_result",
          "data": {
            "text/plain": [
              "False"
            ]
          },
          "metadata": {},
          "execution_count": 153
        }
      ]
    },
    {
      "cell_type": "code",
      "source": [
        "IsImageHasAnomaly(autoencoder, '/content/drive/MyDrive/RNA/1/240_85.jpg',threshold)"
      ],
      "metadata": {
        "colab": {
          "base_uri": "https://localhost:8080/",
          "height": 0
        },
        "outputId": "1bf6064f-207d-4301-9853-463d4ca690a5",
        "id": "E6iEf8FGcgsk"
      },
      "execution_count": 154,
      "outputs": [
        {
          "output_type": "stream",
          "name": "stdout",
          "text": [
            "_mse: 0.2718896187013336\n"
          ]
        },
        {
          "output_type": "execute_result",
          "data": {
            "text/plain": [
              "False"
            ]
          },
          "metadata": {},
          "execution_count": 154
        }
      ]
    },
    {
      "cell_type": "code",
      "execution_count": 155,
      "metadata": {
        "colab": {
          "base_uri": "https://localhost:8080/",
          "height": 0
        },
        "id": "5jt_gMO-KQuF",
        "outputId": "cea2fc79-f22e-4e99-8263-98c21ff1a6dc"
      },
      "outputs": [
        {
          "output_type": "stream",
          "name": "stdout",
          "text": [
            "_mse: 0.167885571908582\n"
          ]
        },
        {
          "output_type": "execute_result",
          "data": {
            "text/plain": [
              "False"
            ]
          },
          "metadata": {},
          "execution_count": 155
        }
      ],
      "source": [
        "#DFM\n",
        "IsImageHasAnomaly(autoencoder, '/content/drive/MyDrive/Colab Notebooks/7_1-new.jpg',threshold)"
      ]
    },
    {
      "cell_type": "code",
      "execution_count": 156,
      "metadata": {
        "colab": {
          "base_uri": "https://localhost:8080/",
          "height": 0
        },
        "id": "j0i2LzncZYde",
        "outputId": "8358a85f-c1ff-42b8-8e6e-9d0022a719d9"
      },
      "outputs": [
        {
          "output_type": "stream",
          "name": "stdout",
          "text": [
            "_mse: 0.2664131769876593\n"
          ]
        },
        {
          "output_type": "execute_result",
          "data": {
            "text/plain": [
              "False"
            ]
          },
          "metadata": {},
          "execution_count": 156
        }
      ],
      "source": [
        "IsImageHasAnomaly(autoencoder, '/content/drive/MyDrive/Colab Notebooks/45_45.jpg',threshold)"
      ]
    },
    {
      "cell_type": "code",
      "execution_count": 157,
      "metadata": {
        "colab": {
          "base_uri": "https://localhost:8080/",
          "height": 0
        },
        "id": "Rp0bJ4r8cPl6",
        "outputId": "0fb894a9-076c-479e-b40b-92eb3fd37172"
      },
      "outputs": [
        {
          "output_type": "stream",
          "name": "stdout",
          "text": [
            "_mse: 0.22921941926279532\n"
          ]
        },
        {
          "output_type": "execute_result",
          "data": {
            "text/plain": [
              "False"
            ]
          },
          "metadata": {},
          "execution_count": 157
        }
      ],
      "source": [
        "IsImageHasAnomaly(autoencoder, '/content/drive/MyDrive/Colab Notebooks/52_53-new.jpg',threshold)"
      ]
    },
    {
      "cell_type": "code",
      "execution_count": 158,
      "metadata": {
        "colab": {
          "base_uri": "https://localhost:8080/",
          "height": 0
        },
        "id": "V38tY8HZ0JmM",
        "outputId": "c8f4c9a9-65cd-496b-c26d-413d78ff201f"
      },
      "outputs": [
        {
          "output_type": "stream",
          "name": "stdout",
          "text": [
            "_mse: 0.2998471544062272\n"
          ]
        },
        {
          "output_type": "execute_result",
          "data": {
            "text/plain": [
              "False"
            ]
          },
          "metadata": {},
          "execution_count": 158
        }
      ],
      "source": [
        "IsImageHasAnomaly(autoencoder, '/content/drive/My Drive/Colab Notebooks/52_190-new.jpg',threshold)"
      ]
    },
    {
      "cell_type": "code",
      "execution_count": 159,
      "metadata": {
        "colab": {
          "base_uri": "https://localhost:8080/",
          "height": 0
        },
        "id": "IIJznPuF0xv8",
        "outputId": "4c25e250-879f-4d36-863c-88d0e1daf426"
      },
      "outputs": [
        {
          "output_type": "stream",
          "name": "stdout",
          "text": [
            "_mse: 0.1717883703173239\n"
          ]
        },
        {
          "output_type": "execute_result",
          "data": {
            "text/plain": [
              "False"
            ]
          },
          "metadata": {},
          "execution_count": 159
        }
      ],
      "source": [
        "IsImageHasAnomaly(autoencoder, '/content/drive/My Drive/Colab Notebooks/53_50-new.jpg',threshold)"
      ]
    },
    {
      "cell_type": "code",
      "execution_count": 160,
      "metadata": {
        "colab": {
          "base_uri": "https://localhost:8080/",
          "height": 0
        },
        "id": "qOmCycRSilKp",
        "outputId": "8d9e33ca-2f56-46c2-8448-92dbf92c53e4"
      },
      "outputs": [
        {
          "output_type": "stream",
          "name": "stdout",
          "text": [
            "_mse: 0.26394016654579777\n"
          ]
        },
        {
          "output_type": "execute_result",
          "data": {
            "text/plain": [
              "False"
            ]
          },
          "metadata": {},
          "execution_count": 160
        }
      ],
      "source": [
        "IsImageHasAnomaly(autoencoder, '/content/drive/My Drive/Colab Notebooks/70_75-new.jpg',threshold)"
      ]
    },
    {
      "cell_type": "code",
      "execution_count": 161,
      "metadata": {
        "colab": {
          "base_uri": "https://localhost:8080/",
          "height": 0
        },
        "id": "7eNV4r3uhvAq",
        "outputId": "6647f461-7461-4ceb-e74e-0487014052b7"
      },
      "outputs": [
        {
          "output_type": "stream",
          "name": "stdout",
          "text": [
            "_mse: 0.21155840225086714\n"
          ]
        },
        {
          "output_type": "execute_result",
          "data": {
            "text/plain": [
              "False"
            ]
          },
          "metadata": {},
          "execution_count": 161
        }
      ],
      "source": [
        "IsImageHasAnomaly(autoencoder, '/content/drive/My Drive/Colab Notebooks/130_10-new.jpg',threshold)"
      ]
    },
    {
      "cell_type": "code",
      "execution_count": 162,
      "metadata": {
        "colab": {
          "base_uri": "https://localhost:8080/",
          "height": 0
        },
        "id": "z27c25kXh9yO",
        "outputId": "2bf38daa-696e-48e6-feb0-f9de234597c4"
      },
      "outputs": [
        {
          "output_type": "stream",
          "name": "stdout",
          "text": [
            "_mse: 0.24678035063701093\n"
          ]
        },
        {
          "output_type": "execute_result",
          "data": {
            "text/plain": [
              "False"
            ]
          },
          "metadata": {},
          "execution_count": 162
        }
      ],
      "source": [
        "IsImageHasAnomaly(autoencoder, '/content/drive/My Drive/Colab Notebooks/180_105-new.jpg',threshold)"
      ]
    },
    {
      "cell_type": "code",
      "execution_count": 163,
      "metadata": {
        "colab": {
          "base_uri": "https://localhost:8080/",
          "height": 0
        },
        "id": "lYfRzQUanwaS",
        "outputId": "f1e9c56c-6cb0-45c7-9f17-04b7b64f1128"
      },
      "outputs": [
        {
          "output_type": "stream",
          "name": "stdout",
          "text": [
            "_mse: 0.6233694366762085\n"
          ]
        },
        {
          "output_type": "execute_result",
          "data": {
            "text/plain": [
              "True"
            ]
          },
          "metadata": {},
          "execution_count": 163
        }
      ],
      "source": [
        "IsImageHasAnomaly(autoencoder, '/content/drive/My Drive/Colab Notebooks/180_153-new.jpg',threshold)"
      ]
    },
    {
      "cell_type": "code",
      "execution_count": 164,
      "metadata": {
        "colab": {
          "base_uri": "https://localhost:8080/",
          "height": 0
        },
        "id": "LYdhvoL6WLcS",
        "outputId": "dcf88de2-13c0-41f4-c164-3115c66627c3"
      },
      "outputs": [
        {
          "output_type": "stream",
          "name": "stdout",
          "text": [
            "_mse: 0.2020644377611175\n"
          ]
        },
        {
          "output_type": "execute_result",
          "data": {
            "text/plain": [
              "False"
            ]
          },
          "metadata": {},
          "execution_count": 164
        }
      ],
      "source": [
        "IsImageHasAnomaly(autoencoder, '/content/drive/My Drive/Colab Notebooks/190_60-new.jpg',threshold)"
      ]
    },
    {
      "cell_type": "code",
      "execution_count": 165,
      "metadata": {
        "colab": {
          "base_uri": "https://localhost:8080/",
          "height": 0
        },
        "id": "pizrpqPGXNrG",
        "outputId": "3000cd24-eea8-471b-ee65-254e97c5b43b"
      },
      "outputs": [
        {
          "output_type": "stream",
          "name": "stdout",
          "text": [
            "_mse: 0.5901053557152061\n"
          ]
        },
        {
          "output_type": "execute_result",
          "data": {
            "text/plain": [
              "True"
            ]
          },
          "metadata": {},
          "execution_count": 165
        }
      ],
      "source": [
        "IsImageHasAnomaly(autoencoder, '/content/drive/My Drive/Colab Notebooks/205_5-new.jpg',threshold)"
      ]
    },
    {
      "cell_type": "code",
      "execution_count": 166,
      "metadata": {
        "colab": {
          "base_uri": "https://localhost:8080/",
          "height": 0
        },
        "id": "A84YQzILWvl3",
        "outputId": "5122f4f5-db27-4dd7-d979-cc7caf9930f7"
      },
      "outputs": [
        {
          "output_type": "stream",
          "name": "stdout",
          "text": [
            "_mse: 0.46724020782369896\n"
          ]
        },
        {
          "output_type": "execute_result",
          "data": {
            "text/plain": [
              "True"
            ]
          },
          "metadata": {},
          "execution_count": 166
        }
      ],
      "source": [
        "IsImageHasAnomaly(autoencoder, '/content/drive/My Drive/Colab Notebooks/225_165-new.jpg',threshold)"
      ]
    },
    {
      "cell_type": "code",
      "execution_count": 167,
      "metadata": {
        "colab": {
          "base_uri": "https://localhost:8080/",
          "height": 0
        },
        "id": "KToWqxOeW5dP",
        "outputId": "e918a9bc-d334-49c1-f984-f91126d8838e"
      },
      "outputs": [
        {
          "output_type": "stream",
          "name": "stdout",
          "text": [
            "_mse: 0.3610554171806875\n"
          ]
        },
        {
          "output_type": "execute_result",
          "data": {
            "text/plain": [
              "True"
            ]
          },
          "metadata": {},
          "execution_count": 167
        }
      ],
      "source": [
        "IsImageHasAnomaly(autoencoder, '/content/drive/My Drive/Colab Notebooks/240_90-new.jpg',threshold)"
      ]
    },
    {
      "cell_type": "code",
      "execution_count": 168,
      "metadata": {
        "colab": {
          "base_uri": "https://localhost:8080/",
          "height": 0
        },
        "id": "T5oR4sLvW5rH",
        "outputId": "0a20e6ab-2204-455f-e7d2-87afb33157c6"
      },
      "outputs": [
        {
          "output_type": "stream",
          "name": "stdout",
          "text": [
            "_mse: 0.26175308080017257\n"
          ]
        },
        {
          "output_type": "execute_result",
          "data": {
            "text/plain": [
              "False"
            ]
          },
          "metadata": {},
          "execution_count": 168
        }
      ],
      "source": [
        "IsImageHasAnomaly(autoencoder, '/content/drive/My Drive/Colab Notebooks/270_130-new.jpg',threshold)"
      ]
    },
    {
      "cell_type": "code",
      "execution_count": 169,
      "metadata": {
        "colab": {
          "base_uri": "https://localhost:8080/",
          "height": 0
        },
        "id": "Adsq1480W52G",
        "outputId": "9b18ef1f-11c6-409a-9a65-4af347412bdb"
      },
      "outputs": [
        {
          "output_type": "stream",
          "name": "stdout",
          "text": [
            "_mse: 0.44501557131238273\n"
          ]
        },
        {
          "output_type": "execute_result",
          "data": {
            "text/plain": [
              "True"
            ]
          },
          "metadata": {},
          "execution_count": 169
        }
      ],
      "source": [
        "IsImageHasAnomaly(autoencoder, '/content/drive/My Drive/Colab Notebooks/275_18-new.jpg',threshold)"
      ]
    },
    {
      "cell_type": "code",
      "execution_count": 173,
      "metadata": {
        "colab": {
          "base_uri": "https://localhost:8080/",
          "height": 0
        },
        "id": "MkuG5LqIcnNi",
        "outputId": "ea1e447b-f2cc-4253-c5d4-d4d4b9c42639"
      },
      "outputs": [
        {
          "output_type": "stream",
          "name": "stdout",
          "text": [
            "============查看GPU信息================\n",
            "Wed Jul 20 09:41:06 2022       \n",
            "+-----------------------------------------------------------------------------+\n",
            "| NVIDIA-SMI 460.32.03    Driver Version: 460.32.03    CUDA Version: 11.2     |\n",
            "|-------------------------------+----------------------+----------------------+\n",
            "| GPU  Name        Persistence-M| Bus-Id        Disp.A | Volatile Uncorr. ECC |\n",
            "| Fan  Temp  Perf  Pwr:Usage/Cap|         Memory-Usage | GPU-Util  Compute M. |\n",
            "|                               |                      |               MIG M. |\n",
            "|===============================+======================+======================|\n",
            "|   0  Tesla T4            Off  | 00000000:00:04.0 Off |                    0 |\n",
            "| N/A   46C    P0    28W /  70W |   1072MiB / 15109MiB |      0%      Default |\n",
            "|                               |                      |                  N/A |\n",
            "+-------------------------------+----------------------+----------------------+\n",
            "                                                                               \n",
            "+-----------------------------------------------------------------------------+\n",
            "| Processes:                                                                  |\n",
            "|  GPU   GI   CI        PID   Type   Process name                  GPU Memory |\n",
            "|        ID   ID                                                   Usage      |\n",
            "|=============================================================================|\n",
            "+-----------------------------------------------------------------------------+\n",
            "==============查看pytorch版本==============\n",
            "1.12.0+cu113\n",
            "============查看虚拟机硬盘容量================\n",
            "Filesystem      Size  Used Avail Use% Mounted on\n",
            "overlay          79G   40G   40G  50% /\n",
            "tmpfs            64M     0   64M   0% /dev\n",
            "shm             5.7G     0  5.7G   0% /dev/shm\n",
            "/dev/root       2.0G  1.2G  812M  59% /sbin/docker-init\n",
            "tmpfs           6.4G   40K  6.4G   1% /var/colab\n",
            "/dev/sda1        86G   44G   43G  51% /opt/bin/.nvidia\n",
            "tmpfs           6.4G     0  6.4G   0% /proc/acpi\n",
            "tmpfs           6.4G     0  6.4G   0% /proc/scsi\n",
            "tmpfs           6.4G     0  6.4G   0% /sys/firmware\n",
            "drive            15G  324M   15G   3% /content/drive\n",
            "============查看cpu配置================\n",
            "model name\t: Intel(R) Xeon(R) CPU @ 2.20GHz\n",
            "model name\t: Intel(R) Xeon(R) CPU @ 2.20GHz\n",
            "=============查看内存容量===============\n",
            "MemTotal:       13298572 kB\n"
          ]
        }
      ],
      "source": [
        "print(\"============查看GPU信息================\")\n",
        "# 查看GPU信息\n",
        "!/opt/bin/nvidia-smi\n",
        "print(\"==============查看pytorch版本==============\")\n",
        "# 查看pytorch版本\n",
        "import torch\n",
        "print(torch.__version__)\n",
        "print(\"============查看虚拟机硬盘容量================\")\n",
        "# 查看虚拟机硬盘容量\n",
        "!df -lh\n",
        "print(\"============查看cpu配置================\")\n",
        "# 查看cpu配置\n",
        "!cat /proc/cpuinfo | grep model\\ name\n",
        "print(\"=============查看内存容量===============\")\n",
        "# 查看内存容量\n",
        "!cat /proc/meminfo | grep MemTotal"
      ]
    },
    {
      "cell_type": "code",
      "source": [
        "tf.__version__\n",
        "tf.keras.__version__"
      ],
      "metadata": {
        "colab": {
          "base_uri": "https://localhost:8080/",
          "height": 35
        },
        "id": "jt8qii3y_EIQ",
        "outputId": "7c1ccb34-1a31-44a2-8f09-92acf49703ab"
      },
      "execution_count": 177,
      "outputs": [
        {
          "output_type": "execute_result",
          "data": {
            "text/plain": [
              "'2.8.0'"
            ],
            "application/vnd.google.colaboratory.intrinsic+json": {
              "type": "string"
            }
          },
          "metadata": {},
          "execution_count": 177
        }
      ]
    },
    {
      "cell_type": "code",
      "source": [
        ""
      ],
      "metadata": {
        "id": "-9M70MW6_aOY"
      },
      "execution_count": null,
      "outputs": []
    }
  ],
  "metadata": {
    "accelerator": "GPU",
    "colab": {
      "collapsed_sections": [],
      "name": "AnomalyDetection-СNN.ipynb",
      "provenance": [],
      "include_colab_link": true
    },
    "gpuClass": "standard",
    "kernelspec": {
      "display_name": "Python 3",
      "language": "python",
      "name": "python3"
    },
    "language_info": {
      "codemirror_mode": {
        "name": "ipython",
        "version": 3
      },
      "file_extension": ".py",
      "mimetype": "text/x-python",
      "name": "python",
      "nbconvert_exporter": "python",
      "pygments_lexer": "ipython3",
      "version": "3.5.4"
    }
  },
  "nbformat": 4,
  "nbformat_minor": 0
}